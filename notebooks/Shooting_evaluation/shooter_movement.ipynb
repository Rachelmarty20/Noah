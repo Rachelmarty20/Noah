{
 "cells": [
  {
   "cell_type": "code",
   "execution_count": 8,
   "metadata": {
    "collapsed": false
   },
   "outputs": [
    {
     "name": "stdout",
     "output_type": "stream",
     "text": [
      "Populating the interactive namespace from numpy and matplotlib\n"
     ]
    },
    {
     "name": "stderr",
     "output_type": "stream",
     "text": [
      "//anaconda/lib/python2.7/site-packages/IPython/core/magics/pylab.py:161: UserWarning: pylab import has clobbered these variables: ['angle', 'datetime', 'absolute']\n",
      "`%matplotlib` prevents importing * from pylab and numpy\n",
      "  \"\\n`%matplotlib` prevents importing * from pylab and numpy\"\n"
     ]
    },
    {
     "data": {
      "text/plain": [
       "6.6899999999999995"
      ]
     },
     "execution_count": 8,
     "metadata": {},
     "output_type": "execute_result"
    }
   ],
   "source": [
    "import io\n",
    "from IPython.nbformat import current\n",
    "\n",
    "def execute_notebook(nbfile):\n",
    "    \n",
    "    with io.open(nbfile) as f:\n",
    "        nb = current.read(f, 'json')\n",
    "    \n",
    "    ip = get_ipython()\n",
    "    \n",
    "    for cell in nb.worksheets[0].cells:\n",
    "        if cell.cell_type != 'code':\n",
    "            continue\n",
    "        ip.run_cell(cell.input)\n",
    "execute_notebook(\"../workers/Imports.ipynb\")\n",
    "execute_notebook(\"../workers/scoring_system.ipynb\")"
   ]
  },
  {
   "cell_type": "code",
   "execution_count": 15,
   "metadata": {
    "collapsed": false,
    "scrolled": false
   },
   "outputs": [],
   "source": [
    "df = pd.read_csv('../../processed_data/identified_shots.csv', index_col=0)\n",
    "df = df[df.player_id != '(null)']\n",
    "df.player_id = df.player_id.astype(str)\n",
    "len(df)"
   ]
  },
  {
   "cell_type": "code",
   "execution_count": 10,
   "metadata": {
    "collapsed": true
   },
   "outputs": [],
   "source": [
    "# Import individual percentages (processed and selected by movement)\n",
    "player_percentages = pd.read_csv('../../processed_data/players_percentages.18_22.csv', index_col=0)"
   ]
  },
  {
   "cell_type": "code",
   "execution_count": 11,
   "metadata": {
    "collapsed": false
   },
   "outputs": [],
   "source": [
    "players = [str(x) for x in list(player_percentages[player_percentages.Number_of_shots > 1000].Player)]"
   ]
  },
  {
   "cell_type": "code",
   "execution_count": 12,
   "metadata": {
    "collapsed": true
   },
   "outputs": [],
   "source": [
    "distance_min, distance_max = 18, 22"
   ]
  },
  {
   "cell_type": "code",
   "execution_count": 16,
   "metadata": {
    "collapsed": false
   },
   "outputs": [],
   "source": [
    "correlations, shooting_percentages = [], []\n",
    "for i, player in enumerate(players[:506]):\n",
    "    player_df_by_date, player_average = get_player_df_by_session_with_movement(player, distance_min, distance_max, 25)\n",
    "    \n",
    "    averages, dates, movement, = [], [], []\n",
    "    for x in player_df_by_date:\n",
    "        if len(player_df_by_date) > 6:\n",
    "            movement.append(x['movement'].mean())\n",
    "            averages.append(x.numeric_make_miss.mean())\n",
    "            dates.append(list(x.date)[0])\n",
    "\n",
    "    correlations.append(sp.spearmanr(movement, averages))\n",
    "    shooting_percentages.append(player_average)        "
   ]
  },
  {
   "cell_type": "code",
   "execution_count": 18,
   "metadata": {
    "collapsed": false
   },
   "outputs": [
    {
     "data": {
      "image/png": "[encoded data removed]",
      "text/plain": [
       "<matplotlib.figure.Figure at 0x11d7fcfd0>"
      ]
     },
     "metadata": {},
     "output_type": "display_data"
    }
   ],
   "source": [
    "sns.set_style(\"white\")\n",
    "plt.figure(figsize=(4, 2.5))\n",
    "ax = pd.Series([x[0] for x in correlations]).hist(bins=30)\n",
    "plt.xlabel('Correlation between movement and shooting percentage\\n(Spearman Rho)')\n",
    "plt.ylabel('Number of Shooters')\n",
    "ax.grid(False)\n",
    "plt.axvline(0, c='0.5', lw=2)\n",
    "plt.savefig('../../figures/shooter_movement.all.pdf')"
   ]
  },
  {
   "cell_type": "code",
   "execution_count": null,
   "metadata": {
    "collapsed": true
   },
   "outputs": [],
   "source": []
  }
 ],
 "metadata": {
  "anaconda-cloud": {},
  "kernelspec": {
   "display_name": "Python [conda root]",
   "language": "python",
   "name": "conda-root-py"
  },
  "language_info": {
   "codemirror_mode": {
    "name": "ipython",
    "version": 2
   },
   "file_extension": ".py",
   "mimetype": "text/x-python",
   "name": "python",
   "nbconvert_exporter": "python",
   "pygments_lexer": "ipython2",
   "version": "2.7.12"
  }
 },
 "nbformat": 4,
 "nbformat_minor": 1
}
