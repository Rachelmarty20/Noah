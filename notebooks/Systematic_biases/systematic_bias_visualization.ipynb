{
 "cells": [
  {
   "cell_type": "code",
   "execution_count": 1,
   "metadata": {
    "collapsed": false
   },
   "outputs": [
    {
     "name": "stderr",
     "output_type": "stream",
     "text": [
      "//anaconda/lib/python2.7/site-packages/IPython/nbformat.py:13: ShimWarning: The `IPython.nbformat` package has been deprecated. You should import from nbformat instead.\n",
      "  \"You should import from nbformat instead.\", ShimWarning)\n",
      "//anaconda/lib/python2.7/site-packages/nbformat/current.py:19: UserWarning: nbformat.current is deprecated.\n",
      "\n",
      "- use nbformat for read/write/validate public API\n",
      "- use nbformat.vX directly to composing notebooks of a particular version\n",
      "\n",
      "  \"\"\")\n"
     ]
    },
    {
     "name": "stdout",
     "output_type": "stream",
     "text": [
      "Populating the interactive namespace from numpy and matplotlib\n"
     ]
    }
   ],
   "source": [
    "import io\n",
    "from IPython.nbformat import current\n",
    "\n",
    "def execute_notebook(nbfile):\n",
    "    \n",
    "    with io.open(nbfile) as f:\n",
    "        nb = current.read(f, 'json')\n",
    "    \n",
    "    ip = get_ipython()\n",
    "    \n",
    "    for cell in nb.worksheets[0].cells:\n",
    "        if cell.cell_type != 'code':\n",
    "            continue\n",
    "        ip.run_cell(cell.input)\n",
    "execute_notebook(\"../workers/Imports.ipynb\")"
   ]
  },
  {
   "cell_type": "markdown",
   "metadata": {},
   "source": [
    "### Import data"
   ]
  },
  {
   "cell_type": "code",
   "execution_count": 2,
   "metadata": {
    "collapsed": false,
    "scrolled": false
   },
   "outputs": [
    {
     "name": "stdout",
     "output_type": "stream",
     "text": [
      "Apr2017Shots.csv\n",
      "Aug2017Shots.csv\n"
     ]
    },
    {
     "name": "stderr",
     "output_type": "stream",
     "text": [
      "//anaconda/lib/python2.7/site-packages/IPython/core/interactiveshell.py:2717: DtypeWarning: Columns (7,26) have mixed types. Specify dtype option on import or set low_memory=False.\n",
      "  interactivity=interactivity, compiler=compiler, result=result)\n"
     ]
    },
    {
     "name": "stdout",
     "output_type": "stream",
     "text": [
      "Dec2016Shots.csv\n"
     ]
    },
    {
     "name": "stderr",
     "output_type": "stream",
     "text": [
      "//anaconda/lib/python2.7/site-packages/IPython/core/interactiveshell.py:2717: DtypeWarning: Columns (7,14,22) have mixed types. Specify dtype option on import or set low_memory=False.\n",
      "  interactivity=interactivity, compiler=compiler, result=result)\n"
     ]
    },
    {
     "name": "stdout",
     "output_type": "stream",
     "text": [
      "Feb2017Shots.csv\n",
      "Jan2017Shots.csv\n"
     ]
    },
    {
     "name": "stderr",
     "output_type": "stream",
     "text": [
      "//anaconda/lib/python2.7/site-packages/IPython/core/interactiveshell.py:2717: DtypeWarning: Columns (7,22) have mixed types. Specify dtype option on import or set low_memory=False.\n",
      "  interactivity=interactivity, compiler=compiler, result=result)\n"
     ]
    },
    {
     "name": "stdout",
     "output_type": "stream",
     "text": [
      "Jul2017Shots.csv\n",
      "Jun2017Shots.csv\n",
      "Mar2017Shots.csv\n",
      "May2017Shots.csv\n"
     ]
    },
    {
     "name": "stderr",
     "output_type": "stream",
     "text": [
      "//anaconda/lib/python2.7/site-packages/IPython/core/interactiveshell.py:2717: DtypeWarning: Columns (7,14,22,26) have mixed types. Specify dtype option on import or set low_memory=False.\n",
      "  interactivity=interactivity, compiler=compiler, result=result)\n"
     ]
    },
    {
     "name": "stdout",
     "output_type": "stream",
     "text": [
      "Nov2016Shots.csv\n",
      "Oct2017Shots.csv\n"
     ]
    },
    {
     "name": "stderr",
     "output_type": "stream",
     "text": [
      "//anaconda/lib/python2.7/site-packages/IPython/core/interactiveshell.py:2717: DtypeWarning: Columns (7) have mixed types. Specify dtype option on import or set low_memory=False.\n",
      "  interactivity=interactivity, compiler=compiler, result=result)\n"
     ]
    },
    {
     "name": "stdout",
     "output_type": "stream",
     "text": [
      "Sept2017Shots.csv\n"
     ]
    }
   ],
   "source": [
    "# extract from all files\n",
    "practice_files = [x for x in os.listdir('../../raw_data/by_month/')]\n",
    "dfs = []\n",
    "for practice_file in practice_files:\n",
    "    print practice_file\n",
    "    if practice_file in ['Aug2017Shots.csv', 'Oct2017Shots.csv', 'Sept2017Shots.csv']:\n",
    "         tmp = pd.read_csv('../../raw_data/by_month/{0}'.format(practice_file))\n",
    "    else:\n",
    "        tmp = pd.read_csv('../../raw_data/by_month/{0}'.format(practice_file), sep='\\t')\n",
    "    dfs.append(tmp)\n",
    "df = pd.concat(dfs)\n",
    "df = add_columns(df)"
   ]
  },
  {
   "cell_type": "code",
   "execution_count": 3,
   "metadata": {
    "collapsed": true
   },
   "outputs": [],
   "source": [
    "# Remove any shots without attributes\n",
    "df = df[(df.angle != 0)]"
   ]
  },
  {
   "cell_type": "code",
   "execution_count": 10,
   "metadata": {
    "collapsed": false,
    "scrolled": true
   },
   "outputs": [
    {
     "data": {
      "text/plain": [
       "21238202"
      ]
     },
     "execution_count": 10,
     "metadata": {},
     "output_type": "execute_result"
    }
   ],
   "source": [
    "len(df)"
   ]
  },
  {
   "cell_type": "code",
   "execution_count": 11,
   "metadata": {
    "collapsed": true
   },
   "outputs": [],
   "source": [
    "def make_miss_to_int(x):\n",
    "    if x == True:\n",
    "        return 1\n",
    "    else:\n",
    "        return 0\n",
    "df['make_miss_int'] = df['make_miss'].apply(make_miss_to_int)\n",
    "green_palette = sns.color_palette(\"RdYlGn\", 102)\n",
    "def map_percentage_to_color(x):\n",
    "    return green_palette[int(100*x)]"
   ]
  },
  {
   "cell_type": "markdown",
   "metadata": {},
   "source": [
    "### Parse data"
   ]
  },
  {
   "cell_type": "markdown",
   "metadata": {},
   "source": [
    "For court maps"
   ]
  },
  {
   "cell_type": "code",
   "execution_count": 241,
   "metadata": {
    "collapsed": false
   },
   "outputs": [
    {
     "name": "stdout",
     "output_type": "stream",
     "text": [
      "-50 -44\n",
      "-44 -38\n",
      "-38 -32\n",
      "-32 -26\n",
      "-26 -20\n",
      "-20 -14\n",
      "-14 -8\n",
      "-8 -2\n",
      "-2 4\n",
      "4 10\n",
      "10 16\n",
      "16 22\n",
      "22 28\n",
      "28 34\n",
      "34 40\n",
      "40 46\n",
      "46 52\n",
      "52 58\n",
      "58 64\n",
      "64 70\n",
      "70 76\n",
      "76 82\n",
      "82 88\n",
      "88 94\n",
      "94 100\n",
      "100 106\n",
      "106 112\n",
      "112 118\n",
      "118 124\n",
      "124 130\n",
      "130 136\n",
      "136 142\n",
      "142 148\n",
      "148 154\n",
      "154 160\n",
      "160 166\n",
      "166 172\n",
      "172 178\n",
      "178 184\n",
      "184 190\n",
      "190 196\n",
      "196 202\n",
      "202 208\n",
      "208 214\n",
      "214 220\n",
      "220 226\n",
      "226 232\n",
      "232 238\n",
      "238 244\n",
      "244 250\n",
      "250 256\n",
      "256 262\n",
      "262 268\n",
      "268 274\n",
      "274 280\n",
      "280 286\n",
      "286 292\n",
      "292 298\n"
     ]
    }
   ],
   "source": [
    "matrix_percentage, matrix_count, matrix_lr, matrix_angle, matrix_depth = [], [], [], [], []\n",
    "for y_min, y_max in zip(np.arange(-50, 294, 6), np.arange(-44, 300, 6)):\n",
    "    print y_min, y_max\n",
    "    array_percentage, array_count, array_lr, array_angle, array_depth = [], [], [], [], []\n",
    "    for x_min, x_max in zip(np.arange(-250, 244, 6), np.arange(-244, 250, 6)):\n",
    "        df_ = df[(df.floor_position_x_inch > x_min)&(df.floor_position_x_inch <= x_max)&\n",
    "                     (df.floor_position_y_inch > y_min)&(df.floor_position_y_inch <= y_max)]\n",
    "        if len(df_) > 10:\n",
    "            array_percentage.extend([df_['numeric_make_miss'].mean()]*6)\n",
    "            array_lr.extend([df_['left_right'].mean()]*6)\n",
    "            array_angle.extend([df_['angle'].mean()]*6)\n",
    "            array_depth.extend([df_['depth'].mean()]*6)\n",
    "        else:\n",
    "            array_percentage.extend([np.nan]*6)\n",
    "            array_lr.extend([np.nan]*6)\n",
    "            array_angle.extend([np.nan]*6)\n",
    "            array_depth.extend([np.nan]*6)\n",
    "    for i in range(6):\n",
    "        matrix_percentage.append(array_percentage[::-1])\n",
    "        matrix_lr.append(array_lr[::-1])\n",
    "        matrix_angle.append(array_angle[::-1])\n",
    "        matrix_depth.append(array_depth[::-1])"
   ]
  },
  {
   "cell_type": "code",
   "execution_count": 242,
   "metadata": {
    "collapsed": true
   },
   "outputs": [],
   "source": [
    "# Export to pickles\n",
    "pickle.dump( matrix_lr, open( \"../../processed_data/matrix.lr.mean.p\", \"wb\" ) )\n",
    "pickle.dump( matrix_angle, open( \"../../processed_data/matrix.angle.mean.p\", \"wb\" ) )\n",
    "pickle.dump( matrix_depth, open( \"../../processed_data/matrix.depth.mean.p\", \"wb\" ) )"
   ]
  },
  {
   "cell_type": "markdown",
   "metadata": {},
   "source": [
    "### Plotting court positions"
   ]
  },
  {
   "cell_type": "code",
   "execution_count": 4,
   "metadata": {
    "collapsed": true
   },
   "outputs": [],
   "source": [
    "matrix_lr = pickle.load( open( \"../../processed_data/matrix.lr.p\", \"rb\" ) )\n",
    "matrix_angle = pickle.load( open( \"../../processed_data/matrix.angle.p\", \"rb\" ) )\n",
    "matrix_depth = pickle.load( open( \"../../processed_data/matrix.depth.p\", \"rb\" ) )"
   ]
  },
  {
   "cell_type": "code",
   "execution_count": 6,
   "metadata": {
    "collapsed": false
   },
   "outputs": [
    {
     "data": {
      "image/png": "[encoded data removed]",
      "text/plain": [
       "<matplotlib.figure.Figure at 0x108391150>"
      ]
     },
     "metadata": {},
     "output_type": "display_data"
    }
   ],
   "source": [
    "# correct porportions\n",
    "fig = plt.figure(figsize=(5,4.5))\n",
    "ax = fig.add_subplot(111)\n",
    "sns.heatmap(matrix_lr[::-1], vmin=-3, vmax=3, xticklabels=[], yticklabels=[], cmap=\"RdBu\",\n",
    "            cbar_kws={\"shrink\": 0.6, \"aspect\": 8, \"orientation\": \"horizontal\",\"pad\":-0.10, \n",
    "                      \"label\": 'Left-Right'})\n",
    "draw_court(outer_lines=False)\n",
    "plt.xlim(0,500)\n",
    "plt.ylim(-50,300)\n",
    "#plt.title('Left-Right')\n",
    "\n",
    "plt.savefig('../../figures/court_floor.lr.median.pdf')\n",
    "plt.show()"
   ]
  },
  {
   "cell_type": "code",
   "execution_count": 7,
   "metadata": {
    "collapsed": false
   },
   "outputs": [
    {
     "data": {
      "image/png": "[encoded data removed]",
      "text/plain": [
       "<matplotlib.figure.Figure at 0x117dc0290>"
      ]
     },
     "metadata": {},
     "output_type": "display_data"
    }
   ],
   "source": [
    "fig = plt.figure(figsize=(5,4.5))\n",
    "ax = fig.add_subplot(111)\n",
    "g = sns.heatmap(matrix_depth[::-1], vmin=9, vmax=13, xticklabels=[], yticklabels=[], cmap=\"RdBu\",\n",
    "            cbar_kws={\"shrink\": 0.6, \"aspect\": 8, \"orientation\": \"horizontal\", \"pad\":-0.10, \n",
    "                      \"label\": 'Depth'})\n",
    "draw_court(outer_lines=False)\n",
    "plt.xlim(0,500)\n",
    "plt.ylim(-50,300)\n",
    "#plt.title('Depth')\n",
    "plt.savefig('../../figures/court_floor.depth.median.pdf')\n",
    "plt.show()"
   ]
  },
  {
   "cell_type": "markdown",
   "metadata": {
    "collapsed": true
   },
   "source": [
    "### Plotting shooting percentages"
   ]
  },
  {
   "cell_type": "code",
   "execution_count": 12,
   "metadata": {
    "collapsed": false
   },
   "outputs": [],
   "source": [
    "df_not_bank = df[~df.is_bank_shot]"
   ]
  },
  {
   "cell_type": "code",
   "execution_count": 14,
   "metadata": {
    "collapsed": true
   },
   "outputs": [],
   "source": [
    "depth_order = [str(x) for x in np.arange(0, 22, 0.5)]"
   ]
  },
  {
   "cell_type": "code",
   "execution_count": 20,
   "metadata": {
    "collapsed": false
   },
   "outputs": [],
   "source": [
    "# Export shot data for percentage loss notebook\n",
    "for min, max in zip([15, 18, 21, 24, 27], [18, 21, 24, 27, 30]):\n",
    "    df_ = df_not_bank[(df_not_bank.shot_distance > min)&(df_not_bank.shot_distance < max)&\n",
    "                     (df_not_bank.floor_position_x_feet < 8)&(df_not_bank.floor_position_x_feet > -8)]\n",
    "    df_.to_csv('../../processed_data/shot_distance.{0}_{1}.csv'.format(min, max))"
   ]
  },
  {
   "cell_type": "code",
   "execution_count": 23,
   "metadata": {
    "collapsed": false
   },
   "outputs": [
    {
     "name": "stderr",
     "output_type": "stream",
     "text": [
      "/anaconda/lib/python2.7/site-packages/ipykernel/__main__.py:13: SettingWithCopyWarning: \n",
      "A value is trying to be set on a copy of a slice from a DataFrame.\n",
      "Try using .loc[row_indexer,col_indexer] = value instead\n",
      "\n",
      "See the caveats in the documentation: http://pandas.pydata.org/pandas-docs/stable/indexing.html#indexing-view-versus-copy\n"
     ]
    },
    {
     "name": "stdout",
     "output_type": "stream",
     "text": [
      "15 18 10.1388264753 10.1152519821\n",
      "18 21 9.69230680835 9.64232160904\n",
      "21 24 9.20568416697 9.04776147683\n",
      "24 27 9.03764757162 8.84281470782\n",
      "27 30 8.22650068431 7.77322864593\n"
     ]
    },
    {
     "data": {
      "image/png": "[encoded data removed]",
      "text/plain": [
       "<matplotlib.figure.Figure at 0x1f4707350>"
      ]
     },
     "metadata": {},
     "output_type": "display_data"
    }
   ],
   "source": [
    "import matplotlib.patches as patches\n",
    "sns.set_style(\"white\")\n",
    "\n",
    "f, axarr = plt.subplots(5, 1, sharex=True, sharey=True, figsize=( 2, 3.4))\n",
    "f.tight_layout()\n",
    "\n",
    "count_plot, count = 0, 0\n",
    "for min, max in zip([15, 18, 21, 24, 27], [18, 21, 24, 27, 30]):\n",
    "    \n",
    "    ax = plt.subplot(5, 1, count_plot+1)\n",
    "    #df_ = df[(df.shot_distance > min)&(df.shot_distance <= max)]\n",
    "    df_ = df_straight_not_bank[(df_straight_not_bank.shot_distance > min)&(df_straight_not_bank.shot_distance <= max)]\n",
    "    df_['depth_rounded'] = df_['depth'].apply(round_half)\n",
    "    \n",
    "    #print min, max\n",
    "    median = df_['depth'].median()\n",
    "    mean = np.mean([float(x) for x in df_['depth']])\n",
    "    print min, max, median, mean\n",
    "    depth_perc_df = df_[['depth_rounded', 'make_miss_int']].groupby('depth_rounded').mean().reset_index()\n",
    "    depth_perc_df['sp_color'] = depth_perc_df['make_miss_int'].apply(map_percentage_to_color)\n",
    "    depth_perc_df['depth_rounded'] = pd.Categorical(depth_perc_df.depth_rounded, depth_order)\n",
    "    depth_perc_df = depth_perc_df.sort_values('depth_rounded')\n",
    "    shooting_percentage_order = depth_perc_df[depth_perc_df.depth_rounded.isin(depth_order)].sp_color\n",
    "    middle_of_gmz = (depth_perc_df[depth_perc_df.make_miss_int > 0.95].dropna().depth_rounded.astype(float).min() + depth_perc_df[depth_perc_df.make_miss_int > 0.95].dropna().depth_rounded.astype(float).max()) / 2\n",
    "    s = list(df_.depth_rounded.value_counts()[depth_order])\n",
    "    bar_locations = np.arange(0, 22, 0.5)\n",
    "    ax.bar(bar_locations, s, width=0.5, color = shooting_percentage_order)\n",
    "    plt.xlim(bar_locations[0], bar_locations[-1])\n",
    "    plt.axvline(mean, c='0.5', lw=2)\n",
    "    plt.axvline(middle_of_gmz, c='k', lw=2)\n",
    "\n",
    "    plt.yticks([])\n",
    "    plt.ylabel('{0}-{1}ft'.format(min,max), fontsize=7)\n",
    "    #plt.axvline(x=11, c='k', lw=2)\n",
    "    if ax.is_last_row():\n",
    "        plt.xlabel('Depth (Inches)', fontsize=10)\n",
    "        plt.xticks(fontsize=8)\n",
    "    else:\n",
    "        plt.xticks([])\n",
    "    count_plot += 1\n",
    "    plt.tight_layout()\n",
    "    \n",
    "    count +=1\n",
    "plt.savefig('../../figures/Depth.5_lengths.straight.pdf')"
   ]
  },
  {
   "cell_type": "markdown",
   "metadata": {},
   "source": [
    "## Left-Right"
   ]
  },
  {
   "cell_type": "code",
   "execution_count": 2,
   "metadata": {
    "collapsed": false
   },
   "outputs": [],
   "source": [
    "left_right_order =  [str(x) for x in np.arange(-10, 10.5, 0.5)]"
   ]
  },
  {
   "cell_type": "code",
   "execution_count": 62,
   "metadata": {
    "collapsed": true
   },
   "outputs": [],
   "source": [
    "# Export corner shot data for percentage loss notebook\n",
    "df_ = df[(((df.floor_position_x_feet > -25)&(df.floor_position_x_feet <= -22))|\n",
    "         ((df.floor_position_x_feet > 22)&(df.floor_position_x_feet <= 25)))&\n",
    "             (df.floor_position_y_feet > -4)&(df.floor_position_y_feet <= 0)]\n",
    "df_.to_csv('../../processed_data/deep_corner.csv')"
   ]
  },
  {
   "cell_type": "code",
   "execution_count": 7,
   "metadata": {
    "collapsed": false
   },
   "outputs": [],
   "source": [
    "df = pd.read_csv('../../processed_data/deep_corner.csv', index_col=0)"
   ]
  },
  {
   "cell_type": "code",
   "execution_count": 8,
   "metadata": {
    "collapsed": false
   },
   "outputs": [],
   "source": [
    "# plot from spots\n",
    "def get_attribute_distributions(x_min, x_max, y_min, y_max):\n",
    "    df_ = df[(df.floor_position_x_feet > x_min)&(df.floor_position_x_feet <= x_max)&\n",
    "             (df.floor_position_y_feet > y_min)&(df.floor_position_y_feet <= y_max)]\n",
    "\n",
    "    df_['left_right_rounded'] = df_['left_right'].apply(round_half)\n",
    "\n",
    "    median = df_.left_right_rounded.median()\n",
    "    mean = np.mean([float(x) for x in df_.left_right_rounded])\n",
    "    print median, mean\n",
    "    \n",
    "    sns.set_style(\"white\")\n",
    "    plt.figure(figsize=(1.5, 1.75))\n",
    "    #plt.figure(figsize=(8, 10))\n",
    "    ax = plt.subplot(1, 1, 1)\n",
    "    left_right_perc_df = df_[['left_right_rounded', 'make_miss_int']].groupby('left_right_rounded').mean().reset_index()\n",
    "    left_right_perc_df['sp_color'] = left_right_perc_df['make_miss_int'].apply(map_percentage_to_color)\n",
    "    left_right_perc_df['left_right_rounded'] = pd.Categorical(left_right_perc_df.left_right_rounded, left_right_order)\n",
    "    left_right_perc_df = left_right_perc_df.sort_values('left_right_rounded')\n",
    "    shooting_percentage_order = left_right_perc_df[left_right_perc_df.left_right_rounded.isin(left_right_order)].sp_color\n",
    "    s = list(df_.left_right_rounded.value_counts()[left_right_order])\n",
    "    bar_locations = np.arange(-10,10.5,0.5)\n",
    "    ax.bar(bar_locations, s, width=0.5, color = shooting_percentage_order)\n",
    "    plt.axvline(mean, c='0.5', lw=2)\n",
    "    plt.yticks([])\n",
    "    plt.xlim(-10,10.5)\n",
    "    plt.ylabel('Shots taken')\n",
    "    #plt.xlabel('Left-Right')\n",
    "    plt.axvline(x=0, lw=2, c='k')\n",
    "\n",
    "    return plt, left_right_perc_df"
   ]
  },
  {
   "cell_type": "code",
   "execution_count": 9,
   "metadata": {
    "collapsed": false
   },
   "outputs": [
    {
     "name": "stderr",
     "output_type": "stream",
     "text": [
      "/anaconda/lib/python2.7/site-packages/ipykernel/__main__.py:6: SettingWithCopyWarning: \n",
      "A value is trying to be set on a copy of a slice from a DataFrame.\n",
      "Try using .loc[row_indexer,col_indexer] = value instead\n",
      "\n",
      "See the caveats in the documentation: http://pandas.pydata.org/pandas-docs/stable/indexing.html#indexing-view-versus-copy\n"
     ]
    },
    {
     "name": "stdout",
     "output_type": "stream",
     "text": [
      "-1.5 -2.36598384305\n"
     ]
    },
    {
     "data": {
      "image/png": "[encoded data removed]",
      "text/plain": [
       "<matplotlib.figure.Figure at 0x114c38810>"
      ]
     },
     "metadata": {},
     "output_type": "display_data"
    }
   ],
   "source": [
    "plt, right_corner_perc_df = get_attribute_distributions(22, 25, -4, -2)\n",
    "#plt.xlabel('Right corner: Left-Right')\n",
    "plt.savefig('../../figures/LR.right_corner.pdf')"
   ]
  },
  {
   "cell_type": "code",
   "execution_count": 251,
   "metadata": {
    "collapsed": false
   },
   "outputs": [
    {
     "name": "stderr",
     "output_type": "stream",
     "text": [
      "/anaconda/lib/python2.7/site-packages/ipykernel/__main__.py:6: SettingWithCopyWarning: \n",
      "A value is trying to be set on a copy of a slice from a DataFrame.\n",
      "Try using .loc[row_indexer,col_indexer] = value instead\n",
      "\n",
      "See the caveats in the documentation: http://pandas.pydata.org/pandas-docs/stable/indexing.html#indexing-view-versus-copy\n"
     ]
    },
    {
     "name": "stdout",
     "output_type": "stream",
     "text": [
      "0.5 1.06603773585\n"
     ]
    },
    {
     "data": {
      "image/png": "[encoded data removed]",
      "text/plain": [
       "<matplotlib.figure.Figure at 0x2f360d0d0>"
      ]
     },
     "metadata": {},
     "output_type": "display_data"
    }
   ],
   "source": [
    "plt, left_corner_perc_df = get_attribute_distributions(-25, -22, -4, -2)\n",
    "plt.xlabel('Left-Right')\n",
    "plt.savefig('../../figures/LR.left_corner.pdf')"
   ]
  }
 ],
 "metadata": {
  "anaconda-cloud": {},
  "kernelspec": {
   "display_name": "Python [conda root]",
   "language": "python",
   "name": "conda-root-py"
  },
  "language_info": {
   "codemirror_mode": {
    "name": "ipython",
    "version": 2
   },
   "file_extension": ".py",
   "mimetype": "text/x-python",
   "name": "python",
   "nbconvert_exporter": "python",
   "pygments_lexer": "ipython2",
   "version": "2.7.12"
  }
 },
 "nbformat": 4,
 "nbformat_minor": 1
}
