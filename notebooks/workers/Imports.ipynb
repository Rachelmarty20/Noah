{
 "cells": [
  {
   "cell_type": "markdown",
   "metadata": {},
   "source": [
    "#Global Imports"
   ]
  },
  {
   "cell_type": "code",
   "execution_count": 1,
   "metadata": {
    "collapsed": false
   },
   "outputs": [
    {
     "name": "stderr",
     "output_type": "stream",
     "text": [
      "//anaconda/lib/python2.7/site-packages/matplotlib/font_manager.py:273: UserWarning: Matplotlib is building the font cache using fc-list. This may take a moment.\n",
      "  warnings.warn('Matplotlib is building the font cache using fc-list. This may take a moment.')\n"
     ]
    },
    {
     "name": "stdout",
     "output_type": "stream",
     "text": [
      "Populating the interactive namespace from numpy and matplotlib\n"
     ]
    }
   ],
   "source": [
    "%pylab inline"
   ]
  },
  {
   "cell_type": "markdown",
   "metadata": {},
   "source": [
    "###External packages"
   ]
  },
  {
   "cell_type": "code",
   "execution_count": 2,
   "metadata": {
    "collapsed": false
   },
   "outputs": [],
   "source": [
    "import pandas as pd\n",
    "import matplotlib.pyplot as plt\n",
    "import seaborn as sns\n",
    "import scipy.stats as sp\n",
    "import numpy as np\n",
    "import os\n",
    "import math\n",
    "import pickle\n",
    "from datetime import datetime\n",
    "from dateutil import parser\n",
    "from sklearn.decomposition import PCA\n",
    "from sklearn.manifold import TSNE\n",
    "from sklearn.model_selection import train_test_split\n",
    "from sklearn import tree\n",
    "from sklearn.linear_model import ElasticNet\n",
    "from sklearn import linear_model\n",
    "from sklearn.ensemble import GradientBoostingRegressor\n",
    "from sklearn.metrics import mean_squared_error"
   ]
  },
  {
   "cell_type": "code",
   "execution_count": 1,
   "metadata": {
    "collapsed": false
   },
   "outputs": [
    {
     "name": "stderr",
     "output_type": "stream",
     "text": [
      "Using Theano backend.\n"
     ]
    }
   ],
   "source": [
    "#from keras.models import Sequential\n",
    "#from keras.layers import Dense\n",
    "#from keras.wrappers.scikit_learn import KerasRegressor\n",
    "from sklearn.model_selection import cross_val_score\n",
    "from sklearn.model_selection import KFold\n",
    "from sklearn.preprocessing import StandardScaler\n",
    "from sklearn.pipeline import Pipeline"
   ]
  },
  {
   "cell_type": "markdown",
   "metadata": {},
   "source": [
    "###Internal classes"
   ]
  },
  {
   "cell_type": "code",
   "execution_count": 5,
   "metadata": {
    "collapsed": false
   },
   "outputs": [],
   "source": [
    "#from DataProcessing import *"
   ]
  },
  {
   "cell_type": "markdown",
   "metadata": {},
   "source": [
    "###Display variables"
   ]
  },
  {
   "cell_type": "code",
   "execution_count": 6,
   "metadata": {
    "collapsed": true
   },
   "outputs": [],
   "source": [
    "mpl.rcParams['pdf.fonttype'] = 42\n",
    "mpl.rcParams['legend.numpoints'] = 1\n",
    "sns.set_style(\"whitegrid\")"
   ]
  },
  {
   "cell_type": "markdown",
   "metadata": {},
   "source": [
    "####Global Variables"
   ]
  },
  {
   "cell_type": "code",
   "execution_count": 5,
   "metadata": {
    "collapsed": true
   },
   "outputs": [],
   "source": [
    "arc_order = ['36', '37', '38', '39', '40', '41', '42', '43', '44', '45', '46', '47', '48',\n",
    "             '49', '50', '51', '52', '53', '54', '55']\n",
    "depth_order = ['0', '1', '2', '3', '4', '5', '6', '7', '8', '9', '10', '11', '12', '13', '14', '15', '16', '17', '18']#,\n",
    "               #'19', '20', '21', '22']\n",
    "left_right_order = ['-10', '-9', '-8', '-7', '-6', '-5', '-4', '-3', '-2', '-1', '0', '1', '2', '3', '4',\n",
    "                    '5', '6', '7', '8', '9', '10']"
   ]
  },
  {
   "cell_type": "code",
   "execution_count": 4,
   "metadata": {
    "collapsed": false
   },
   "outputs": [],
   "source": [
    "player_factors = ['Angle_Avg', 'Angle_Cons', 'Depth_Avg', 'Depth_Cons', 'Left_Right_Avg', 'Left_Right_Cons']"
   ]
  },
  {
   "cell_type": "markdown",
   "metadata": {},
   "source": [
    "####Functions"
   ]
  },
  {
   "cell_type": "code",
   "execution_count": null,
   "metadata": {
    "collapsed": true
   },
   "outputs": [],
   "source": [
    "def get_date(x):\n",
    "    time_parsed = parser.parse(x)\n",
    "    return '{0}_{1}_{2}'.format(time_parsed.year, time_parsed.month, time_parsed.day)"
   ]
  },
  {
   "cell_type": "code",
   "execution_count": null,
   "metadata": {
    "collapsed": true
   },
   "outputs": [],
   "source": []
  },
  {
   "cell_type": "code",
   "execution_count": 1,
   "metadata": {
    "collapsed": true
   },
   "outputs": [],
   "source": [
    "def round_float(x):\n",
    "    return str(int(round(x)))\n",
    "\n",
    "def square_root(x):\n",
    "    return math.sqrt(x)"
   ]
  },
  {
   "cell_type": "code",
   "execution_count": 1,
   "metadata": {
    "collapsed": true
   },
   "outputs": [],
   "source": [
    "# round to half number\n",
    "def round_half(x):\n",
    "    return str(round(x * 2) / 2)\n",
    "def round_two(x):\n",
    "    return str(round(x * 5) / 5)"
   ]
  },
  {
   "cell_type": "code",
   "execution_count": 1,
   "metadata": {
    "collapsed": true
   },
   "outputs": [],
   "source": [
    "def numeric_make_miss(x):\n",
    "    if x == True:\n",
    "        return 1\n",
    "    else:\n",
    "        return 0"
   ]
  },
  {
   "cell_type": "code",
   "execution_count": 2,
   "metadata": {
    "collapsed": true
   },
   "outputs": [],
   "source": [
    "def add_columns(df):\n",
    "    if 'shot_length' in df.columns:\n",
    "        df['shot_distance'] = df.shot_length\n",
    "        df['angle'] = df.entry_angle\n",
    "        df['depth'] = df.shot_depth\n",
    "    elif 'floor_position_x' in df.columns:\n",
    "        df['floor_position_x_inch'] = df['floor_position_x'] / 25.4\n",
    "        df['floor_position_y_inch'] = df['floor_position_y'] / 25.4\n",
    "        df['floor_position_x_feet'] = df['floor_position_x_inch'] / 12\n",
    "        df['floor_position_y_feet'] = df['floor_position_y_inch'] / 12\n",
    "        df['shot_distance_squared'] = df['floor_position_x_feet']**2 + df['floor_position_y_feet']**2\n",
    "        df['shot_distance'] = df['shot_distance_squared'].apply(square_root)\n",
    "    df['angle_rounded'] = df['angle'].apply(round_float)\n",
    "    df['depth_rounded'] = df['depth'].apply(round_float)\n",
    "    df['left_right_rounded'] = df['left_right'].apply(round_float)\n",
    "    df['numeric_make_miss'] = df['make_miss'].apply(numeric_make_miss)\n",
    "    #df['make_miss'] = df['make_miss'].apply(fix_make_miss)\n",
    "    #df['accurate'] = df['shot_date'].apply(get_accurate)\n",
    "    #df['clean_make'] = df['clean_make'].apply(fix_make_miss)\n",
    "    #df['make_miss'] = df[['make_miss', 'clean_make']].apply(make_miss_int, axis=1)\n",
    "    return df"
   ]
  },
  {
   "cell_type": "code",
   "execution_count": 21,
   "metadata": {
    "collapsed": true
   },
   "outputs": [],
   "source": [
    "def get_accurate(x):\n",
    "    if int(x.split('-')[1]) >= 5:\n",
    "        return True\n",
    "    else:\n",
    "        return False"
   ]
  },
  {
   "cell_type": "code",
   "execution_count": 19,
   "metadata": {
    "collapsed": true
   },
   "outputs": [],
   "source": [
    "def fix_make_miss(x):\n",
    "    if x == True or x == 'true':\n",
    "        return True\n",
    "    elif x == False or x == 'false':\n",
    "        return False"
   ]
  },
  {
   "cell_type": "code",
   "execution_count": 16,
   "metadata": {
    "collapsed": true
   },
   "outputs": [],
   "source": [
    "def make_miss_int(x):\n",
    "    if x[0] == True or x[1] == True:\n",
    "        return 1\n",
    "    else:\n",
    "        return 0"
   ]
  },
  {
   "cell_type": "markdown",
   "metadata": {},
   "source": [
    "####large scale"
   ]
  },
  {
   "cell_type": "code",
   "execution_count": 58,
   "metadata": {
    "collapsed": true
   },
   "outputs": [],
   "source": [
    "def angle(df, df_ft):\n",
    "    # Round angle\n",
    "    df['angle_rounded'] = df['angle'].apply(round_float)\n",
    "\n",
    "    # generate plots\n",
    "    for d in [10, 15, 21, 24]:\n",
    "        plot_angle(df, d, '#4169E1', '#FFA500')\n",
    "\n",
    "    # ft\n",
    "    plot_angle_ft(df_ft, '#4169E1', '#FFA500')"
   ]
  },
  {
   "cell_type": "code",
   "execution_count": 62,
   "metadata": {
    "collapsed": true
   },
   "outputs": [],
   "source": [
    "def depth(df, df_ft):\n",
    "    # Round depth\n",
    "    df['depth_rounded'] = df['depth'].apply(round_float)\n",
    "\n",
    "    # generate plots\n",
    "    for d in [10, 15, 21, 24]:\n",
    "        plot_depth(df, d, '#3CB371', '#FFA500')\n",
    "\n",
    "    # ft\n",
    "    plot_depth_ft(df_ft, '#3CB371', '#FFA500')"
   ]
  },
  {
   "cell_type": "code",
   "execution_count": 56,
   "metadata": {
    "collapsed": true
   },
   "outputs": [],
   "source": [
    "def left_right(df, df_ft):\n",
    "    # Round left/right\n",
    "    df['left_right_rounded'] = df['left_right'].apply(round_float)\n",
    "\n",
    "    # generate plots\n",
    "    for d in [10, 15, 21, 24]:\n",
    "        plot_left_right(df, d, '#BA55D3', '#FFA500')\n",
    "\n",
    "    # ft\n",
    "    plot_left_right_ft(df_ft, '#BA55D3', '#FFA500')"
   ]
  },
  {
   "cell_type": "code",
   "execution_count": 68,
   "metadata": {
    "collapsed": true
   },
   "outputs": [],
   "source": [
    "def violin(df, df_ft):\n",
    "    # generate plots\n",
    "    to_test = ['depth', 'left_right', 'angle']\n",
    "    for var in to_test:\n",
    "        make_violin_plot(df, var)\n",
    "        make_violin_plot_ft(df_ft, var)"
   ]
  },
  {
   "cell_type": "code",
   "execution_count": 85,
   "metadata": {
    "collapsed": true
   },
   "outputs": [],
   "source": [
    "def absolute(x):\n",
    "    return abs(x)"
   ]
  },
  {
   "cell_type": "markdown",
   "metadata": {},
   "source": [
    "Variation"
   ]
  },
  {
   "cell_type": "code",
   "execution_count": null,
   "metadata": {
    "collapsed": true
   },
   "outputs": [],
   "source": [
    "def pathag(x):\n",
    "    sidea, sideb = x[0], x[1]\n",
    "    csquare = (sidea ** 2) + (sideb ** 2)\n",
    "    sidec = math.sqrt(csquare)\n",
    "    return sidec"
   ]
  },
  {
   "cell_type": "code",
   "execution_count": null,
   "metadata": {
    "collapsed": true
   },
   "outputs": [],
   "source": [
    "def get_player_df_by_date(player, distance_min, distance_max):\n",
    "    player_df = df[(df.player_id == player)&(df.shot_distance > distance_min)&(df.shot_distance < distance_max)]\n",
    "    player_df['date'] = player_df.shot_date.apply(get_date)\n",
    "    player_df = player_df.sort_values('shot_date')\n",
    "    player_df['floor_position_x_feet_shifted'] = player_df.floor_position_x_feet.shift(-1)\n",
    "    player_df['floor_position_y_feet_shifted'] = player_df.floor_position_y_feet.shift(-1)\n",
    "    player_df['x_diff'] = abs(player_df.floor_position_x_feet - player_df.floor_position_x_feet_shifted)\n",
    "    player_df['y_diff'] = abs(player_df.floor_position_y_feet - player_df.floor_position_y_feet_shifted)\n",
    "    player_df['movement'] = player_df[['x_diff', 'y_diff']].apply(pathag, axis=1)\n",
    "    player_average = player_df[(player_df.movement < 2)&(player_df.depth > -8)&(player_df.depth < 26)&(player_df.left_right > -15)&(player_df.left_right < 15)].numeric_make_miss.mean()\n",
    "    \n",
    "    player_df_by_date = []\n",
    "    for date in player_df.date.unique():\n",
    "        date_df = player_df[player_df.date == date]\n",
    "        date_df_restricted = date_df[(date_df.depth > -8)&(date_df.depth < 26)&(date_df.left_right > -15)&(date_df.left_right < 15)]\n",
    "        if (len(date_df_restricted) >= 25) & (date_df_restricted.movement.mean() < 2):\n",
    "            player_df_by_date.append(date_df_restricted)\n",
    "    return player_df_by_date, player_average"
   ]
  },
  {
   "cell_type": "code",
   "execution_count": null,
   "metadata": {
    "collapsed": true
   },
   "outputs": [],
   "source": [
    "def get_player_df_by_date_with_movement(player, distance_min, distance_max):\n",
    "    player_df = df[(df.player_id == player)&(df.shot_distance > distance_min)&(df.shot_distance < distance_max)]\n",
    "    player_df['date'] = player_df.shot_date.apply(get_date)\n",
    "    player_df = player_df.sort_values('shot_date')\n",
    "    player_df['floor_position_x_feet_shifted'] = player_df.floor_position_x_feet.shift(-1)\n",
    "    player_df['floor_position_y_feet_shifted'] = player_df.floor_position_y_feet.shift(-1)\n",
    "    player_df['x_diff'] = abs(player_df.floor_position_x_feet - player_df.floor_position_x_feet_shifted)\n",
    "    player_df['y_diff'] = abs(player_df.floor_position_y_feet - player_df.floor_position_y_feet_shifted)\n",
    "    player_df['movement'] = player_df[['x_diff', 'y_diff']].apply(pathag, axis=1)\n",
    "    player_average = player_df[(player_df.movement < 2)&(player_df.depth > -8)&(player_df.depth < 26)&(player_df.left_right > -15)&(player_df.left_right < 15)].numeric_make_miss.mean()\n",
    "    \n",
    "    player_df_by_date = []\n",
    "    for date in player_df.date.unique():\n",
    "        date_df = player_df[player_df.date == date]\n",
    "        date_df_restricted = date_df[(date_df.depth > -8)&(date_df.depth < 26)&(date_df.left_right > -15)&(date_df.left_right < 15)]\n",
    "        if (len(date_df_restricted) >= 25):\n",
    "            player_df_by_date.append(date_df_restricted)\n",
    "    return player_df_by_date, player_average"
   ]
  },
  {
   "cell_type": "code",
   "execution_count": null,
   "metadata": {
    "collapsed": true
   },
   "outputs": [],
   "source": [
    "def get_player_df_by_session(player, distance_min, distance_max, shot_count):\n",
    "    player_df_by_date, player_average = get_player_df_by_date(player, distance_min, distance_max)\n",
    "    player_df_by_session = []\n",
    "    for date_df in player_df_by_date:\n",
    "        if len(date_df) > shot_count:\n",
    "            for i in range(0, len(date_df)-shot_count, shot_count):\n",
    "                player_session = date_df.iloc[i:i+shot_count]\n",
    "                if player_session.numeric_make_miss.mean() > 0:\n",
    "                    player_df_by_session.append(player_session)\n",
    "    return player_df_by_session, player_average"
   ]
  },
  {
   "cell_type": "code",
   "execution_count": null,
   "metadata": {
    "collapsed": true
   },
   "outputs": [],
   "source": [
    "def get_player_df_by_session_with_movement(player, distance_min, distance_max, shot_count):\n",
    "    player_df_by_date, player_average = get_player_df_by_date_with_movement(player, distance_min, distance_max)\n",
    "    player_df_by_session = []\n",
    "    for date_df in player_df_by_date:\n",
    "        if len(date_df) > shot_count:\n",
    "            for i in range(0, len(date_df)-shot_count, shot_count):\n",
    "                player_session = date_df.iloc[i:i+shot_count]\n",
    "                if player_session.numeric_make_miss.mean() > 0:\n",
    "                    player_df_by_session.append(player_session)\n",
    "    return player_df_by_session, player_average"
   ]
  },
  {
   "cell_type": "code",
   "execution_count": null,
   "metadata": {
    "collapsed": true
   },
   "outputs": [],
   "source": [
    "def percentages_by_session(player_df_by_date, shot_count):\n",
    "    percentages = []\n",
    "    for date_df in player_df_by_date:\n",
    "        if len(date_df) > shot_count:\n",
    "            for i in range(0, len(date_df)-shot_count, shot_count):\n",
    "                percentages.append(date_df.iloc[i:i+shot_count].numeric_make_miss.mean())\n",
    "    percentages = pd.Series(percentages)\n",
    "    return percentages"
   ]
  },
  {
   "cell_type": "code",
   "execution_count": 2,
   "metadata": {
    "collapsed": true
   },
   "outputs": [],
   "source": [
    "def get_session_df(plotting_players, shot_count):\n",
    "    session_shooter_factors = []\n",
    "    for player in plotting_players:\n",
    "        player_df_by_session, player_average = get_player_df_by_session(player, distance_min, distance_max, shot_count)\n",
    "\n",
    "        for session in player_df_by_session:\n",
    "            stats = scores_with_correlations(session)\n",
    "            session_dictionary = {'Shooting_Percentage': stats[0],\n",
    "                                    'Angle_Avg': stats[1],\n",
    "                                    'Angle_Cons': stats[2],\n",
    "                                    'Depth_Avg': stats[3],\n",
    "                                    'Depth_Cons': stats[4],\n",
    "                                    'Left_Right_Avg': stats[5],\n",
    "                                    'Left_Right_Cons': stats[6],\n",
    "                                     'Angle_depth': stats[7],\n",
    "                                     'Angle_left_Right': stats[8],\n",
    "                                     'Depth_left_right':stats[9],\n",
    "                                    'Player': player}\n",
    "            session_dictionary['shot_count'] = len(session)\n",
    "            session_shooter_factors.append(session_dictionary)\n",
    "    session_df = pd.DataFrame(session_shooter_factors)\n",
    "    return session_df"
   ]
  },
  {
   "cell_type": "code",
   "execution_count": null,
   "metadata": {
    "collapsed": true
   },
   "outputs": [],
   "source": [
    "def get_session_df_scored(plotting_players, shot_count):\n",
    "    session_shooter_factors = []\n",
    "    for player in plotting_players:\n",
    "        player_df_by_session = get_player_df_by_session(player, distance_min, distance_max, shot_count)\n",
    "\n",
    "        for session in player_df_by_session:\n",
    "            stats = scores_by_df(session)\n",
    "            session_dictionary = {'Shooting_Percentage': stats[0],\n",
    "                                    'Angle_Avg': stats[1],\n",
    "                                    'Angle_Cons': stats[2],\n",
    "                                    'Depth_Avg': stats[3],\n",
    "                                    'Depth_Cons': stats[4],\n",
    "                                    'Left_Right_Avg': stats[5],\n",
    "                                    'Left_Right_Cons': stats[6],\n",
    "                                    'Player': player}\n",
    "            session_dictionary['shot_count'] = len(session)\n",
    "            session_shooter_factors.append(session_dictionary)\n",
    "    session_df = pd.DataFrame(session_shooter_factors)\n",
    "    return session_df"
   ]
  },
  {
   "cell_type": "code",
   "execution_count": null,
   "metadata": {
    "collapsed": true
   },
   "outputs": [],
   "source": [
    "def predictions_by_session(player_df_by_date, shot_count, model):\n",
    "    percentages = []\n",
    "    for date_df in player_df_by_date:\n",
    "        if len(date_df) > shot_count:\n",
    "            for i in range(0, len(date_df)-shot_count, shot_count):\n",
    "                session_df = date_df.iloc[i:i+shot_count]\n",
    "                # get features\n",
    "                stats = scores_with_correlations(session_df)\n",
    "                session_dictionary = {'sample_percentage': stats[0],\n",
    "                                'Angle_Avg': stats[1],\n",
    "                                'Angle_Cons': stats[2],\n",
    "                                'Depth_Avg': stats[3],\n",
    "                                'Depth_Cons': stats[4],\n",
    "                                'Left_Right_Avg': stats[5],\n",
    "                                'Left_Right_Cons': stats[6],\n",
    "                                'Angle_depth': stats[7],\n",
    "                                'Angle_left_Right': stats[8],\n",
    "                                'Depth_left_right': stats[9],\n",
    "                                'practice_percentage': player_average,\n",
    "                                'player_id': player}\n",
    "                # ['Angle_Avg', 'Angle_Cons', 'Depth_Avg', 'Depth_Cons', 'Left_Right_Avg', 'Left_Right_Cons', 'Angle_depth', 'Angle_left_Right', 'Depth_left_right', 'sample_percentage'\n",
    "                features = list(stats[1:7]) + [stats[7][1]] + [stats[8][1]] + [stats[9][1]] + [stats[0]]\n",
    "                percentages.append(model.predict(features)[0])\n",
    "    percentages = pd.Series(percentages)\n",
    "    return percentages"
   ]
  },
  {
   "cell_type": "markdown",
   "metadata": {},
   "source": [
    "Correlations"
   ]
  },
  {
   "cell_type": "code",
   "execution_count": null,
   "metadata": {
    "collapsed": true
   },
   "outputs": [],
   "source": [
    "#def correlate(df, )"
   ]
  },
  {
   "cell_type": "code",
   "execution_count": 84,
   "metadata": {
    "collapsed": true
   },
   "outputs": [],
   "source": [
    "def correlations(df):\n",
    "    df['left_right_abs'] = df.left_right.apply(absolute)\n",
    "    \n",
    "    df_restricted = df[df.shot_distance > 10]\n",
    "    #print len(df_restricted)\n",
    "    df_restricted = df_restricted.groupby('angle_rounded').agg(np.mean).reset_index()\n",
    "    df_restricted.angle_rounded = df_restricted.angle_rounded.astype(int)\n",
    "    df_restricted = df_restricted.sort('angle_rounded')\n",
    "    # possibly restrict by number of shots in each category instead of by straight numbers?\n",
    "    df_restricted_resonable = df_restricted[(df_restricted.angle_rounded > 35)&(df_restricted.angle_rounded < 55)]\n",
    "    \n",
    "    plt.scatter(df_restricted_resonable.angle_rounded, df_restricted_resonable.depth)\n",
    "    plt.xlabel('Arc')\n",
    "    plt.ylabel('Depth in Hoop')\n",
    "    plt.show()\n",
    "    #plt.savefig('./plots/other/arc_v_depth.pdf')\n",
    "    '''\n",
    "    plt.scatter(df_restricted_resonable.angle_rounded, df_restricted_resonable.left_right)\n",
    "    plt.xlabel('Arc')\n",
    "    plt.ylabel('Left/Right in Hoop')\n",
    "    #plt.savefig('./plots/other/arc_v_left_right.pdf')\n",
    "    plt.show()\n",
    "    '''\n",
    "    \n",
    "    plt.scatter(df_restricted_resonable.depth, df_restricted_resonable.left_right_abs)\n",
    "    plt.xlabel('Depth')\n",
    "    plt.ylabel('Left/Right in Hoop')\n",
    "    #plt.savefig('./plots/other/arc_v_left_right.pdf')\n",
    "    plt.show()\n",
    "    \n",
    "    plt.scatter(df_restricted_resonable.angle_rounded, df_restricted_resonable.left_right_abs)\n",
    "    plt.xlabel('Arc')\n",
    "    plt.ylabel('Left/Right in Hoop')\n",
    "    #plt.savefig('./plots/other/arc_v_left_right.pdf')\n",
    "    plt.show()\n",
    "    \n",
    "    distance = 10\n",
    "    color2 = '#BA55D3'\n",
    "    ax = sns.countplot(x='angle_rounded', data=df[df.shot_distance > distance], order=arc_order, color=color2)\n",
    "    plt.xlabel('Entry Angle')\n",
    "    plt.ylabel('Number of Shots')\n",
    "    plt.title('Arc vs. Number of Shots - over {0} ft'.format(str(distance)))\n",
    "    #plt.savefig('../../plots/warriors/arc/number_of_shots.{0}ft.pdf'.format(str(distance)))\n",
    "    plt.show()\n",
    "    plt.cla()"
   ]
  },
  {
   "cell_type": "code",
   "execution_count": 82,
   "metadata": {
    "collapsed": true
   },
   "outputs": [],
   "source": [
    "def individual_correlations(df, player_id):\n",
    "    p1 = (df.player_id == player_id)\n",
    "    correlations(df[p1])"
   ]
  },
  {
   "cell_type": "code",
   "execution_count": 98,
   "metadata": {
    "collapsed": false
   },
   "outputs": [],
   "source": [
    "def individual_angle_distributions(df, player_id):\n",
    "    p1 = (df.player_id == player_id)\n",
    "    df = df[p1]\n",
    "    \n",
    "    #ad make miss percentage, variance and shooting percentage\n",
    "    print df.make_miss.mean(), len(df[p1])\n",
    "    \n",
    "    d = 10\n",
    "    plot_angle(df, d, '#4169E1', '#FFA500')\n",
    "    plot_depth(df, d, '#3CB371', '#FFA500')\n",
    "    plot_left_right(df, d, '#BA55D3', '#FFA500')\n"
   ]
  },
  {
   "cell_type": "code",
   "execution_count": 1,
   "metadata": {
    "collapsed": true
   },
   "outputs": [],
   "source": [
    "def individual_statistics(df, player_id):\n",
    "    p1 = (df.player_id == player_id)\n",
    "    df = df[p1]\n",
    "    print len(df)\n",
    "    \n",
    "    df['left_right_abs'] = df.left_right.apply(absolute)\n",
    "    \n",
    "    perc_make = df.make_miss.mean()\n",
    "    angle_var = df.angle.var()\n",
    "    angle_mean = df.angle.mean()\n",
    "    depth_var = df.depth.var()\n",
    "    depth_mean = df.depth.mean()\n",
    "    left_right_var = df.left_right_abs.var()\n",
    "    left_right_mean = df.left_right_abs.mean()\n",
    "    \n",
    "    return perc_make, angle_var, angle_mean, depth_var, depth_mean, left_right_var, left_right_mean, player_id"
   ]
  },
  {
   "cell_type": "code",
   "execution_count": 4,
   "metadata": {
    "collapsed": true
   },
   "outputs": [],
   "source": [
    "def individual_statistics_abs(df, player_id):\n",
    "    p1 = (df.player_id == player_id)\n",
    "    df = df[p1]\n",
    "    print len(df)\n",
    "    \n",
    "    df['left_right_abs'] = df.left_right.apply(absolute)\n",
    "    df['depth_abs_distance_from_opt'] = abs(11 - df.depth)\n",
    "    #df['angle_abs_distance_from_opt'] = abs(43 - df.angle)\n",
    "    \n",
    "    perc_make = df.make_miss.mean()\n",
    "    angle_var = df.angle.var()\n",
    "    #angle_abs = df.angle_abs_distance_from_opt.mean()\n",
    "    depth_abs = df.depth_abs_distance_from_opt.mean()\n",
    "    left_right_abs = df.left_right_abs.mean()\n",
    "\n",
    "    return perc_make, angle_var, depth_abs, left_right_abs, player_id"
   ]
  },
  {
   "cell_type": "code",
   "execution_count": 1,
   "metadata": {
    "collapsed": true
   },
   "outputs": [],
   "source": [
    "def individual_statistics_special(df, player_id):\n",
    "    p1 = (df.player_id == player_id)\n",
    "    df = df[p1]\n",
    "    #print len(df)\n",
    "    \n",
    "    df['left_right_abs_distance_median'] = abs(df.left_right.median() - df.left_right)\n",
    "    df['depth_abs_distance_median'] = abs(df.depth.median() - df.depth)\n",
    "    df['angle_abs_distance_median'] = abs(df.angle.median() - df.angle)\n",
    "    \n",
    "    perc_make = df.numeric_make_miss.mean()\n",
    "    # these should be medians!!\n",
    "    angle_median = df.angle.median()\n",
    "    angle_cons = df.angle_abs_distance_median.median()\n",
    "    depth_median = df.depth.median()\n",
    "    depth_cons = df.depth_abs_distance_median.median()\n",
    "    left_right_median = df.left_right.median()\n",
    "    left_right_cons = df.left_right_abs_distance_median.median()\n",
    "\n",
    "    return perc_make, angle_median, angle_cons, depth_median, depth_cons, left_right_median, left_right_cons, player_id"
   ]
  },
  {
   "cell_type": "markdown",
   "metadata": {},
   "source": [
    "####Plotting"
   ]
  },
  {
   "cell_type": "code",
   "execution_count": null,
   "metadata": {
    "collapsed": true
   },
   "outputs": [],
   "source": []
  },
  {
   "cell_type": "code",
   "execution_count": 118,
   "metadata": {
    "collapsed": true
   },
   "outputs": [],
   "source": [
    "def plot_count(df, distance, col, color):\n",
    "    number_of_shots = str(int(len(df[df.shot_distance > distance])/1000))\n",
    "    ax = sns.countplot(x=col, data=df[df.shot_distance > distance], order=arc_order, color=color)\n",
    "    plt.xlabel('Entry Angle')\n",
    "    plt.ylabel('Number of Shots')\n",
    "    plt.title('Arc vs. Number of Shots - over {0} ft'.format(str(distance)))\n",
    "    plt.show()"
   ]
  },
  {
   "cell_type": "code",
   "execution_count": 3,
   "metadata": {
    "collapsed": true
   },
   "outputs": [],
   "source": [
    "def plot_angle(df, distance, color1, color2, file_out, file_out2):\n",
    "\n",
    "    number_of_shots = str(int(len(df[df.shot_distance > distance])/1000))\n",
    "\n",
    "    ax = sns.barplot(x='angle_rounded', y='make_miss', data=df[df.shot_distance > distance],\n",
    "                     order=arc_order, color=color1, ci=None)\n",
    "    plt.yticks(ax.get_yticks(), ax.get_yticks() * 100)\n",
    "    plt.xlabel('Entry Angle - mean: {0}'.format(str(df[df.shot_distance > distance].angle.mean())))\n",
    "    plt.ylabel('Shooting Percentage')\n",
    "    plt.title('Arc vs. Shooting Percentage - {0}k shots over {1} ft'.format(number_of_shots, str(distance)))\n",
    "    plt.ylim(0, 1)\n",
    "    if len(file_out) > 10:\n",
    "        plt.savefig(file_out)\n",
    "    plt.show()\n",
    "    plt.cla()\n",
    "\n",
    "    ax = sns.countplot(x='angle_rounded', data=df[df.shot_distance > distance], order=arc_order, color=color2)\n",
    "    plt.xlabel('Entry Angle')\n",
    "    plt.ylabel('Number of Shots')\n",
    "    plt.title('Arc vs. Number of Shots - over {0} ft'.format(str(distance)))\n",
    "    if len(file_out2) > 10:\n",
    "        plt.savefig(file_out2)\n",
    "    plt.show()"
   ]
  },
  {
   "cell_type": "code",
   "execution_count": 44,
   "metadata": {
    "collapsed": true
   },
   "outputs": [],
   "source": [
    "def plot_angle_ft(df_ft, color1, color2):\n",
    "\n",
    "    print 'in'\n",
    "    number_of_shots = str(int(len(df_ft)/1000))\n",
    "    print number_of_shots\n",
    "    ax = sns.barplot(x='angle_rounded', y='make_miss', data=df_ft,\n",
    "                     order=arc_order, color=color1, ci=None)\n",
    "    plt.yticks(ax.get_yticks(), ax.get_yticks() * 100)\n",
    "    plt.xlabel('Entry Angle - mean: {0}'.format(str(df_ft.angle.mean())))\n",
    "    plt.ylabel('Shooting Percentage')\n",
    "    plt.title('Arc vs. Shooting Percentage - {0}k Free Throws'.format(number_of_shots))\n",
    "    plt.show()\n",
    "    #plt.savefig('../../plots/mavs/arc/percentage.free_throws.pdf')\n",
    "    plt.cla()\n",
    "\n",
    "    ax = sns.countplot(x='angle_rounded', data=df_ft, order=arc_order, color=color2)\n",
    "    plt.xlabel('Entry Angle')\n",
    "    plt.ylabel('Number of Shots')\n",
    "    plt.title('Arc vs. Number of Shots - Free Throws')\n",
    "    plt.show()\n",
    "    #plt.savefig('../../plots/mavs/arc/number_of_shots.free_throws.pdf')\n",
    "    plt.cla()"
   ]
  },
  {
   "cell_type": "code",
   "execution_count": 18,
   "metadata": {
    "collapsed": true
   },
   "outputs": [],
   "source": [
    "def plot_depth(df, distance, color1, color2, file_out, file_out2):\n",
    "\n",
    "    depth_order = ['0', '1', '2', '3', '4', '5', '6', '7', '8', '9', '10', '11', '12', '13', '14', '15', '16', '17', '18']#,\n",
    "               #'19', '20', '21', '22']\n",
    "    #reverse(depth_order)\n",
    "    \n",
    "    number_of_shots = str(int(len(df[df.shot_distance > distance])/1000))\n",
    "\n",
    "    ax = sns.barplot(x='depth_rounded', y='make_miss', data=df[df.shot_distance > distance],\n",
    "                     order=depth_order, color=color1, ci=None)\n",
    "    plt.yticks(ax.get_yticks(), ax.get_yticks() * 100)\n",
    "    plt.xlabel('Shot Depth- mean: {0}'.format(str(df[df.shot_distance > distance].depth.mean())))\n",
    "    plt.ylabel('Shooting Percentage')\n",
    "    plt.title('Shot Depth vs. Shooting Percentage - {0}k shots over {1} ft'.format(number_of_shots, str(distance)))\n",
    "    plt.ylim(0, 1)\n",
    "    if len(file_out) > 10:\n",
    "        plt.savefig(file_out)\n",
    "    plt.show()\n",
    "    plt.cla()\n",
    "\n",
    "    ax = sns.countplot(x='depth_rounded', data=df[df.shot_distance > distance], order=depth_order, color=color2)\n",
    "    plt.xlabel('Shot Depth')\n",
    "    plt.ylabel('Number of Shots')\n",
    "    plt.title('Shot Depth vs. Number of Shots - over {0} ft'.format(str(distance)))\n",
    "    if len(file_out2) > 10:\n",
    "        plt.savefig(file_out2)\n",
    "    plt.show()\n"
   ]
  },
  {
   "cell_type": "code",
   "execution_count": 60,
   "metadata": {
    "collapsed": true
   },
   "outputs": [],
   "source": [
    "def plot_depth_ft(df_ft, color1, color2):\n",
    "\n",
    "    number_of_shots = str(int(len(df_ft)/1000))\n",
    "\n",
    "    ax = sns.barplot(x='depth_rounded', y='make_miss', data=df_ft,\n",
    "                     order=depth_order, color=color1, ci=None)\n",
    "    plt.yticks(ax.get_yticks(), ax.get_yticks() * 100)\n",
    "    plt.xlabel('Shot Depth - mean: {0}'.format(str(df_ft.depth.mean())))\n",
    "    plt.ylabel('Shooting Percentage')\n",
    "    plt.title('Shot Depth vs. Shooting Percentage - {0}k Free Throws'.format(number_of_shots))\n",
    "    plt.show()\n",
    "    #plt.savefig('../../plots/mavs/depth/percentage.free_throws.pdf')\n",
    "    plt.cla()\n",
    "\n",
    "    ax = sns.countplot(x='depth_rounded', data=df_ft, order=depth_order, color=color2)\n",
    "    plt.xlabel('Shot Depth')\n",
    "    plt.ylabel('Number of Shots')\n",
    "    plt.title('Shot Depth vs. Number of Shots - Free Throws')\n",
    "    plt.show()\n",
    "    #plt.savefig('../../plots/mavs/depth/number_of_shots.free_throws.pdf')\n",
    "    plt.cla()\n"
   ]
  },
  {
   "cell_type": "code",
   "execution_count": 116,
   "metadata": {
    "collapsed": true
   },
   "outputs": [],
   "source": [
    "def plot_left_right(df, distance, color1, color2, file_out):\n",
    "\n",
    "    number_of_shots = str(int(len(df[df.shot_distance > distance])/1000))\n",
    "\n",
    "    ax = sns.barplot(x='left_right_rounded', y='make_miss', data=df[df.shot_distance > distance],\n",
    "                     order=left_right_order, color=color1, ci=None)\n",
    "    plt.yticks(ax.get_yticks(), ax.get_yticks() * 100)\n",
    "    plt.xlabel('Left-Right - mean: {0}'.format(str(df[df.shot_distance > distance].left_right.mean())))\n",
    "    plt.ylabel('Shooting Percentage')\n",
    "    plt.title('Left-Right vs. Shooting Percentage - {0}k shots over {1} ft'.format(number_of_shots, str(distance)))\n",
    "    plt.ylim(0, 1)\n",
    "    if len(file_out) > 10:\n",
    "        plt.savefig(file_out)\n",
    "    plt.show()\n",
    "    plt.cla()\n",
    "\n",
    "    ax = sns.countplot(x='left_right_rounded', data=df[df.shot_distance > distance],\n",
    "                       order=left_right_order, color=color2)\n",
    "    plt.xlabel('Left-Right')\n",
    "    plt.ylabel('Number of Shots')\n",
    "    plt.title('Left-Right vs. Number of Shots - over {0} ft'.format(str(distance)))\n",
    "    plt.show()\n",
    "\n"
   ]
  },
  {
   "cell_type": "code",
   "execution_count": 41,
   "metadata": {
    "collapsed": true
   },
   "outputs": [],
   "source": [
    "def plot_left_right_ft(df_ft, color1, color2):\n",
    "\n",
    "    number_of_shots = str(int(len(df_ft)/1000))\n",
    "\n",
    "    ax = sns.barplot(x='left_right_rounded', y='make_miss', data=df_ft,\n",
    "                     order=left_right_order, color=color1, ci=None)\n",
    "    plt.yticks(ax.get_yticks(), ax.get_yticks() * 100)\n",
    "    plt.xlabel('Left-Right - mean: {0}'.format(str(df_ft.left_right.mean())))\n",
    "    plt.ylabel('Shooting Percentage')\n",
    "    plt.title('Left-Right vs. Shooting Percentage - {0}k Free Throws'.format(number_of_shots))\n",
    "    plt.show()\n",
    "    #plt.savefig('../../plots/mavs/left_right/percentage.free_throws.pdf')\n",
    "    plt.cla()\n",
    "\n",
    "    ax = sns.countplot(x='left_right_rounded', data=df_ft,\n",
    "                       order=left_right_order, color=color2)\n",
    "    plt.xlabel('Left-Right')\n",
    "    plt.ylabel('Number of Shots')\n",
    "    plt.title('Left-Right vs. Number of Shots - Free Throws')\n",
    "    plt.show()\n",
    "    #plt.savefig('../../plots/mavs/left_right/number_of_shots.free_throws.pdf')\n",
    "    plt.cla()\n"
   ]
  },
  {
   "cell_type": "code",
   "execution_count": 42,
   "metadata": {
    "collapsed": true
   },
   "outputs": [],
   "source": [
    "def make_violin_plot(df, variable):\n",
    "    sns.violinplot(data=df[(df.left_right > -15) & (df.left_right < 15)\n",
    "                            & (df.depth > -5) & (df.depth < 25)\n",
    "                            & (df.angle > 35) & (df.angle < 55)],\n",
    "                   y=variable, x='make_miss')\n",
    "    plt.xlabel('Made Shot')\n",
    "    plt.ylabel(variable)\n",
    "    plt.title('Distribution of {0} for Missed and Made Shots'.format(variable))\n",
    "    plt.show()\n",
    "    #plt.savefig('../../plots/warriors/violin/{0}.pdf'.format(variable))\n",
    "    #plt.cla()"
   ]
  },
  {
   "cell_type": "code",
   "execution_count": 43,
   "metadata": {
    "collapsed": true
   },
   "outputs": [],
   "source": [
    "def make_violin_plot_ft(df_ft, variable):\n",
    "\n",
    "        sns.violinplot(data=df_ft[(df_ft.left_right > -15) & (df_ft.left_right < 15)\n",
    "                                & (df_ft.depth > -5) & (df_ft.depth < 25)\n",
    "                                & (df_ft.angle > 35) & (df_ft.angle < 55)],\n",
    "                       y=variable, x='make_miss')\n",
    "        plt.xlabel('Made Shot')\n",
    "        plt.ylabel(variable)\n",
    "        plt.title('Distribution of {0} for Missed and Made Shots - Free Throws'.format(variable))\n",
    "        plt.show()\n",
    "        #plt.savefig('../../plots/mavs/violin/{0}.free_throws.pdf'.format(variable))\n",
    "        plt.cla()\n"
   ]
  },
  {
   "cell_type": "code",
   "execution_count": null,
   "metadata": {
    "collapsed": true
   },
   "outputs": [],
   "source": [
    "# http://savvastjortjoglou.com/nba-shot-sharts.html\n",
    "from matplotlib.patches import Circle, Rectangle, Arc\n",
    "\n",
    "def draw_court(ax=None, color='black', lw=2, outer_lines=False):\n",
    "    adjustx = 250\n",
    "    adjusty = 50\n",
    "    \n",
    "    # If an axes object isn't provided to plot onto, just get current one\n",
    "    if ax is None:\n",
    "        ax = plt.gca()\n",
    "\n",
    "    # Create the various parts of an NBA basketball court\n",
    "\n",
    "    # Create the basketball hoop\n",
    "    # Diameter of a hoop is 18\" so it has a radius of 9\", which is a value\n",
    "    # 7.5 in our coordinate system\n",
    "    hoop = Circle((0+adjustx, 0+adjusty), radius=7.5, linewidth=lw, color=color, fill=False)\n",
    "\n",
    "    # Create backboard\n",
    "    backboard = Rectangle((-30+adjustx, -7.5+adjusty), 60, -1, linewidth=lw, color=color)\n",
    "\n",
    "    # The paint\n",
    "    # Create the outer box 0f the paint, width=16ft, height=19ft\n",
    "    outer_box = Rectangle((-80+adjustx, -47.5+adjusty), 160, 190, linewidth=lw, color=color,\n",
    "                          fill=False)\n",
    "    # Create the inner box of the paint, widt=12ft, height=19ft\n",
    "    inner_box = Rectangle((-60+adjustx, -47.5+adjusty), 120, 190, linewidth=lw, color=color,\n",
    "                          fill=False)\n",
    "\n",
    "    # Create free throw top arc\n",
    "    top_free_throw = Arc((0+adjustx, 142.5+adjusty), 120, 120, theta1=0, theta2=180,\n",
    "                         linewidth=lw, color=color, fill=False)\n",
    "    # Create free throw bottom arc\n",
    "    bottom_free_throw = Arc((0+adjustx, 142.5+adjusty), 120, 120, theta1=180, theta2=0,\n",
    "                            linewidth=lw, color=color, linestyle='dashed')\n",
    "    # Restricted Zone, it is an arc with 4ft radius from center of the hoop\n",
    "    restricted = Arc((0+adjustx, 0+adjusty), 80, 80, theta1=0, theta2=180, linewidth=lw,\n",
    "                     color=color)\n",
    "\n",
    "    # Three point line\n",
    "    # Create the side 3pt lines, they are 14ft long before they begin to arc\n",
    "    corner_three_a = Rectangle((-220+adjustx, -47.5+adjusty), 0, 140, linewidth=lw,\n",
    "                               color=color)\n",
    "    corner_three_b = Rectangle((220+adjustx, -47.5+adjusty), 0, 140, linewidth=lw, color=color)\n",
    "    # 3pt arc - center of arc will be the hoop, arc is 23'9\" away from hoop\n",
    "    # I just played around with the theta values until they lined up with the \n",
    "    # threes\n",
    "    three_arc = Arc((0+adjustx, 0+adjusty), 475, 475, theta1=22, theta2=158, linewidth=lw,\n",
    "                    color=color)\n",
    "\n",
    "    # Center Court\n",
    "    center_outer_arc = Arc((0+adjustx, 422.5+adjusty), 120, 120, theta1=180, theta2=0,\n",
    "                           linewidth=lw, color=color)\n",
    "    center_inner_arc = Arc((0+adjustx, 422.5+adjusty), 40, 40, theta1=180, theta2=0,\n",
    "                           linewidth=lw, color=color)\n",
    "\n",
    "    # List of the court elements to be plotted onto the axes\n",
    "    court_elements = [hoop, backboard, outer_box, inner_box, top_free_throw,\n",
    "                      bottom_free_throw, restricted, corner_three_a,\n",
    "                      corner_three_b, three_arc, center_outer_arc,\n",
    "                      center_inner_arc]\n",
    "\n",
    "    if outer_lines:\n",
    "        # Draw the half court line, baseline and side out bound lines\n",
    "        outer_lines = Rectangle((-250+adjust, -47.5+adjusty), 500, 470, linewidth=lw,\n",
    "                                color=color, fill=False)\n",
    "        court_elements.append(outer_lines)\n",
    "\n",
    "    # Add the court elements onto the axes\n",
    "    for element in court_elements:\n",
    "        ax.add_patch(element)\n",
    "\n",
    "    return ax"
   ]
  }
 ],
 "metadata": {
  "anaconda-cloud": {},
  "kernelspec": {
   "display_name": "Python [default]",
   "language": "python",
   "name": "python2"
  },
  "language_info": {
   "codemirror_mode": {
    "name": "ipython",
    "version": 2
   },
   "file_extension": ".py",
   "mimetype": "text/x-python",
   "name": "python",
   "nbconvert_exporter": "python",
   "pygments_lexer": "ipython2",
   "version": "2.7.12"
  }
 },
 "nbformat": 4,
 "nbformat_minor": 0
}
