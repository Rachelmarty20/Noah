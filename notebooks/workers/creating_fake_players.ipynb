{
 "cells": [
  {
   "cell_type": "code",
   "execution_count": 2,
   "metadata": {
    "collapsed": false
   },
   "outputs": [
    {
     "name": "stdout",
     "output_type": "stream",
     "text": [
      "Populating the interactive namespace from numpy and matplotlib\n"
     ]
    },
    {
     "name": "stderr",
     "output_type": "stream",
     "text": [
      "//anaconda/lib/python2.7/site-packages/IPython/core/magics/pylab.py:161: UserWarning: pylab import has clobbered these variables: ['angle', 'datetime', 'absolute']\n",
      "`%matplotlib` prevents importing * from pylab and numpy\n",
      "  \"\\n`%matplotlib` prevents importing * from pylab and numpy\"\n"
     ]
    }
   ],
   "source": [
    "import io\n",
    "from IPython.nbformat import current\n",
    "\n",
    "def execute_notebook(nbfile):\n",
    "    \n",
    "    with io.open(nbfile) as f:\n",
    "        nb = current.read(f, 'json')\n",
    "    \n",
    "    ip = get_ipython()\n",
    "    \n",
    "    for cell in nb.worksheets[0].cells:\n",
    "        if cell.cell_type != 'code':\n",
    "            continue\n",
    "        ip.run_cell(cell.input)\n",
    "execute_notebook(\"../workers/Imports.ipynb\")"
   ]
  },
  {
   "cell_type": "code",
   "execution_count": 3,
   "metadata": {
    "collapsed": false
   },
   "outputs": [
    {
     "name": "stderr",
     "output_type": "stream",
     "text": [
      "//anaconda/lib/python2.7/site-packages/IPython/core/interactiveshell.py:2717: DtypeWarning: Columns (7,14,22) have mixed types. Specify dtype option on import or set low_memory=False.\n",
      "  interactivity=interactivity, compiler=compiler, result=result)\n",
      "//anaconda/lib/python2.7/site-packages/IPython/core/interactiveshell.py:2717: DtypeWarning: Columns (7,22) have mixed types. Specify dtype option on import or set low_memory=False.\n",
      "  interactivity=interactivity, compiler=compiler, result=result)\n",
      "//anaconda/lib/python2.7/site-packages/IPython/core/interactiveshell.py:2717: DtypeWarning: Columns (7,14,22,26) have mixed types. Specify dtype option on import or set low_memory=False.\n",
      "  interactivity=interactivity, compiler=compiler, result=result)\n"
     ]
    }
   ],
   "source": [
    "practice_files = [x for x in os.listdir('../../raw_data/') if '2017Shots' in x]\n",
    "dfs = []\n",
    "for practice_file in practice_files:\n",
    "    dfs.append(pd.read_csv('../../raw_data/{0}'.format(practice_file), sep='\\t'))\n",
    "df = pd.concat(dfs)\n",
    "df = add_columns(df)"
   ]
  },
  {
   "cell_type": "code",
   "execution_count": 4,
   "metadata": {
    "collapsed": false
   },
   "outputs": [
    {
     "data": {
      "text/plain": [
       "Index([u'id', u'angle', u'shot_distance', u'trajectory', u'velocity',\n",
       "       u'ball_height', u'shot_date', u'classified', u'left_right', u'depth',\n",
       "       u'floor_position_x', u'floor_position_y', u'ball_position_x',\n",
       "       u'ball_position_y', u'make_miss', u'excluded', u'ball_points',\n",
       "       u'constant_a', u'constant_b', u'constant_c', u'volume_level',\n",
       "       u'feedback_type', u'clean_make', u'hoop_id', u'inserted_at',\n",
       "       u'updated_at', u'player_id', u'location_id', u'session_id',\n",
       "       u'is_free_throw', u'is_bank_shot', u'is_layup',\n",
       "       u'floor_position_x_inch', u'floor_position_y_inch',\n",
       "       u'floor_position_x_feet', u'floor_position_y_feet',\n",
       "       u'shot_distance_squared', u'angle_rounded', u'depth_rounded',\n",
       "       u'left_right_rounded', u'numeric_make_miss'],\n",
       "      dtype='object')"
      ]
     },
     "execution_count": 4,
     "metadata": {},
     "output_type": "execute_result"
    }
   ],
   "source": [
    "df.columns"
   ]
  },
  {
   "cell_type": "code",
   "execution_count": 11,
   "metadata": {
    "collapsed": false
   },
   "outputs": [],
   "source": [
    "df = df[df.player_id == 0]"
   ]
  },
  {
   "cell_type": "code",
   "execution_count": 12,
   "metadata": {
    "collapsed": true
   },
   "outputs": [],
   "source": [
    "# restrict by length\n",
    "distance_threshold = (df.shot_distance > 18)\n",
    "df = df[distance_threshold]"
   ]
  },
  {
   "cell_type": "code",
   "execution_count": 13,
   "metadata": {
    "collapsed": true
   },
   "outputs": [],
   "source": [
    "# Make_df\n",
    "make_df = df[df.numeric_make_miss == 1]\n",
    "# Miss_df\n",
    "miss_df = df[df.numeric_make_miss == 0]"
   ]
  },
  {
   "cell_type": "code",
   "execution_count": 14,
   "metadata": {
    "collapsed": false,
    "scrolled": true
   },
   "outputs": [
    {
     "name": "stdout",
     "output_type": "stream",
     "text": [
      "1239161 1843804\n"
     ]
    }
   ],
   "source": [
    "print len(make_df), len(miss_df)"
   ]
  },
  {
   "cell_type": "code",
   "execution_count": 35,
   "metadata": {
    "collapsed": false,
    "scrolled": true
   },
   "outputs": [
    {
     "name": "stdout",
     "output_type": "stream",
     "text": [
      "0.0\n",
      "20.0\n",
      "40.0\n",
      "60.0\n",
      "80.0\n",
      "100.0\n",
      "120.0\n",
      "140.0\n",
      "160.0\n",
      "180.0\n",
      "200.0\n",
      "220.0\n",
      "240.0\n",
      "260.0\n",
      "280.0\n",
      "300.0\n",
      "320.0\n",
      "340.0\n",
      "360.0\n",
      "380.0\n",
      "400.0\n",
      "420.0\n",
      "440.0\n",
      "460.0\n",
      "480.0\n",
      "500.0\n",
      "520.0\n",
      "540.0\n",
      "560.0\n",
      "580.0\n",
      "600.0\n",
      "620.0\n",
      "640.0\n",
      "660.0\n",
      "680.0\n",
      "700.0\n",
      "720.0\n",
      "740.0\n",
      "760.0\n",
      "780.0\n",
      "800.0\n",
      "820.0\n",
      "840.0\n",
      "860.0\n",
      "880.0\n",
      "900.0\n",
      "920.0\n",
      "940.0\n",
      "960.0\n",
      "980.0\n",
      "1000.0\n",
      "1020.0\n",
      "1040.0\n",
      "1060.0\n",
      "1080.0\n",
      "1100.0\n",
      "1120.0\n",
      "1140.0\n",
      "1160.0\n",
      "1180.0\n",
      "1200.0\n",
      "1220.0\n",
      "1240.0\n",
      "1260.0\n",
      "1280.0\n",
      "1300.0\n",
      "1320.0\n",
      "1340.0\n",
      "1360.0\n",
      "1380.0\n",
      "1400.0\n",
      "1420.0\n",
      "1440.0\n",
      "1460.0\n",
      "1480.0\n",
      "1500.0\n",
      "1520.0\n",
      "1540.0\n",
      "1560.0\n",
      "1580.0\n",
      "1600.0\n",
      "1620.0\n",
      "1640.0\n",
      "1660.0\n",
      "1680.0\n",
      "1700.0\n",
      "1720.0\n",
      "1740.0\n",
      "1760.0\n",
      "1780.0\n",
      "1800.0\n",
      "1820.0\n",
      "1840.0\n",
      "1860.0\n",
      "1880.0\n",
      "1900.0\n",
      "1920.0\n",
      "1940.0\n",
      "1960.0\n",
      "1980.0\n",
      "2000.0\n",
      "2020.0\n",
      "2040.0\n",
      "2060.0\n",
      "2080.0\n",
      "2100.0\n",
      "2120.0\n",
      "2140.0\n",
      "2160.0\n",
      "2180.0\n",
      "2200.0\n",
      "2220.0\n",
      "2240.0\n",
      "2260.0\n",
      "2280.0\n",
      "2300.0\n",
      "2320.0\n",
      "2340.0\n",
      "2360.0\n",
      "2380.0\n",
      "2400.0\n",
      "2420.0\n",
      "2440.0\n",
      "2460.0\n",
      "2480.0\n",
      "2500.0\n",
      "2520.0\n",
      "2540.0\n",
      "2560.0\n",
      "2580.0\n",
      "2600.0\n",
      "2620.0\n",
      "2640.0\n",
      "2660.0\n",
      "2680.0\n",
      "2700.0\n",
      "2720.0\n",
      "2740.0\n",
      "2760.0\n",
      "2780.0\n",
      "2800.0\n",
      "2820.0\n",
      "2840.0\n",
      "2860.0\n",
      "2880.0\n",
      "2900.0\n",
      "2920.0\n",
      "2940.0\n",
      "2960.0\n",
      "2980.0\n",
      "3000.0\n",
      "7600.0\n",
      "7620.0\n",
      "7640.0\n",
      "7660.0\n",
      "7680.0\n",
      "7700.0\n",
      "7720.0\n",
      "7740.0\n",
      "7760.0\n",
      "7780.0\n",
      "7800.0\n",
      "7820.0\n",
      "7840.0\n",
      "7860.0\n",
      "7880.0\n",
      "7900.0\n",
      "7920.0\n",
      "7940.0\n",
      "7960.0\n",
      "7980.0\n",
      "8000.0\n",
      "8020.0\n",
      "8040.0\n",
      "8060.0\n",
      "8080.0\n",
      "8100.0\n",
      "8120.0\n",
      "8140.0\n",
      "8160.0\n",
      "8180.0\n",
      "8200.0\n",
      "8220.0\n",
      "8240.0\n",
      "8260.0\n",
      "8280.0\n",
      "8300.0\n",
      "8320.0\n",
      "8340.0\n",
      "8360.0\n",
      "8380.0\n",
      "8400.0\n",
      "8420.0\n",
      "8440.0\n",
      "8460.0\n",
      "8480.0\n",
      "8500.0\n",
      "8520.0\n",
      "8540.0\n",
      "8560.0\n",
      "8580.0\n",
      "8600.0\n",
      "8620.0\n",
      "8640.0\n",
      "8660.0\n",
      "8680.0\n",
      "8700.0\n",
      "8720.0\n",
      "8740.0\n",
      "8760.0\n",
      "8780.0\n",
      "8800.0\n",
      "8820.0\n",
      "8840.0\n",
      "8860.0\n",
      "8880.0\n",
      "8900.0\n",
      "8920.0\n",
      "8940.0\n",
      "8960.0\n",
      "8980.0\n",
      "9000.0\n",
      "9020.0\n",
      "9040.0\n",
      "9060.0\n",
      "9080.0\n",
      "9100.0\n",
      "9120.0\n",
      "9140.0\n",
      "9160.0\n",
      "9180.0\n",
      "9200.0\n",
      "9220.0\n",
      "9240.0\n",
      "9260.0\n",
      "9280.0\n",
      "9300.0\n",
      "9320.0\n",
      "9340.0\n",
      "9360.0\n",
      "9380.0\n",
      "9400.0\n",
      "9420.0\n",
      "9440.0\n",
      "9460.0\n",
      "9480.0\n",
      "9500.0\n",
      "9520.0\n",
      "9540.0\n",
      "9560.0\n",
      "9580.0\n",
      "9600.0\n",
      "9620.0\n",
      "9640.0\n",
      "9660.0\n",
      "9680.0\n",
      "9700.0\n",
      "9720.0\n",
      "9740.0\n",
      "9760.0\n",
      "9780.0\n",
      "9800.0\n",
      "9820.0\n",
      "9840.0\n",
      "9860.0\n",
      "9880.0\n",
      "9900.0\n",
      "9920.0\n",
      "9940.0\n",
      "9960.0\n",
      "9980.0\n",
      "10000.0\n"
     ]
    }
   ],
   "source": [
    "# concat samples from each + label_with_player + store\n",
    "player_id_counter = 100000\n",
    "all_dfs = []\n",
    "for perc in list(np.arange(0, 0.3002, 0.002))+list(np.arange(0.76, 1.002, 0.002)):\n",
    "    print perc*10000\n",
    "    tmp_df = pd.concat([miss_df.sample(int(10000-(perc*10000))), make_df.sample(int(perc*10000))])\n",
    "    player_id_counter += 1\n",
    "    tmp_df.player_id = str(player_id_counter)\n",
    "    all_dfs.append(tmp_df)"
   ]
  },
  {
   "cell_type": "code",
   "execution_count": 36,
   "metadata": {
    "collapsed": false
   },
   "outputs": [],
   "source": [
    "# combine and export\n",
    "df = pd.concat(all_dfs)"
   ]
  },
  {
   "cell_type": "code",
   "execution_count": 37,
   "metadata": {
    "collapsed": true
   },
   "outputs": [],
   "source": [
    "df.to_csv('../../processed_data/fake_players.csv')"
   ]
  },
  {
   "cell_type": "code",
   "execution_count": null,
   "metadata": {
    "collapsed": true
   },
   "outputs": [],
   "source": []
  }
 ],
 "metadata": {
  "anaconda-cloud": {},
  "kernelspec": {
   "display_name": "Python [conda root]",
   "language": "python",
   "name": "conda-root-py"
  },
  "language_info": {
   "codemirror_mode": {
    "name": "ipython",
    "version": 2
   },
   "file_extension": ".py",
   "mimetype": "text/x-python",
   "name": "python",
   "nbconvert_exporter": "python",
   "pygments_lexer": "ipython2",
   "version": "2.7.12"
  }
 },
 "nbformat": 4,
 "nbformat_minor": 1
}
