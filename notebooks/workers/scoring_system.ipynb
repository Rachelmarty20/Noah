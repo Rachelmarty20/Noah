{
 "cells": [
  {
   "cell_type": "markdown",
   "metadata": {},
   "source": [
    "###Define scoring system"
   ]
  },
  {
   "cell_type": "markdown",
   "metadata": {},
   "source": [
    "Input dataframe of shots with columns: angle, depth, left_right"
   ]
  },
  {
   "cell_type": "code",
   "execution_count": 79,
   "metadata": {
    "collapsed": false
   },
   "outputs": [],
   "source": [
    "# dictionary to convert between letter and number\n"
   ]
  },
  {
   "cell_type": "code",
   "execution_count": 2,
   "metadata": {
    "collapsed": true
   },
   "outputs": [],
   "source": [
    "def scores_with_correlations(df):\n",
    "    return df.numeric_make_miss.mean(), calculate_arc_avg_cont(df), calculate_arc_const_cont(df), calculate_depth_avg_cont(df), calculate_depth_const_cont(df), calculate_left_right_avg_cont(df), calculate_left_right_const_cont(df), sp.spearmanr(df.angle, df.depth)[0], sp.spearmanr(df.angle, df.left_right)[0], sp.spearmanr(df.left_right, df.depth)[0]#, player"
   ]
  },
  {
   "cell_type": "code",
   "execution_count": 4,
   "metadata": {
    "collapsed": false
   },
   "outputs": [],
   "source": [
    "def scores_by_player(df):\n",
    "    #df = df[df.player_id == player]\n",
    "    return df.numeric_make_miss.mean(), calculate_arc_avg(df), calculate_arc_const(df), calculate_depth_avg(df), calculate_depth_const(df), calculate_left_right_avg(df), calculate_left_right_const(df)#, player, calculate_velocity_avg_cont(df), calculate_velocity_const_cont(df)"
   ]
  },
  {
   "cell_type": "code",
   "execution_count": null,
   "metadata": {
    "collapsed": true
   },
   "outputs": [],
   "source": [
    "def scores_by_df(df):\n",
    "    return df.numeric_make_miss.mean(), calculate_arc_avg(df), calculate_arc_const(df), calculate_depth_avg(df), calculate_depth_const(df), calculate_left_right_avg(df), calculate_left_right_const(df),  calculate_velocity_avg_cont(df), calculate_velocity_const_cont(df), list(df.player_id)[0]"
   ]
  },
  {
   "cell_type": "code",
   "execution_count": 27,
   "metadata": {
    "collapsed": true
   },
   "outputs": [],
   "source": [
    "def scores_by_session(df, session):\n",
    "    df = df[df.session_id == session]\n",
    "    return df.numeric_make_miss.mean(), calculate_arc_avg(df), calculate_arc_const(df), calculate_depth_avg(df), calculate_depth_const(df), calculate_left_right_avg(df), calculate_left_right_const(df), session, list(df.player_id)[0], calculate_velocity_avg_cont(df), calculate_velocity_const_cont(df)"
   ]
  },
  {
   "cell_type": "code",
   "execution_count": 1,
   "metadata": {
    "collapsed": true
   },
   "outputs": [],
   "source": [
    "def calculate_arc_avg_cont(df):\n",
    "    return df.angle.mean()\n",
    "def calculate_arc_const_cont(df):\n",
    "    return df.angle.std()\n",
    "def calculate_depth_avg_cont(df):\n",
    "    return df.depth.mean()\n",
    "def calculate_depth_const_cont(df):\n",
    "    return df.depth.std()\n",
    "def calculate_left_right_avg_cont(df):\n",
    "    return df.left_right.mean()\n",
    "def calculate_left_right_const_cont(df):\n",
    "    return df.left_right.std()\n",
    "def calculate_velocity_avg_cont(df):\n",
    "    return df.velocity.mean()\n",
    "def calculate_velocity_const_cont(df):\n",
    "    return df.velocity.std()"
   ]
  },
  {
   "cell_type": "code",
   "execution_count": 28,
   "metadata": {
    "collapsed": true
   },
   "outputs": [],
   "source": [
    "def scores_by_player_cont(df):\n",
    "    #df = df[df.player_id == player]\n",
    "    return df.numeric_make_miss.mean(), calculate_arc_avg_cont(df), calculate_arc_const_cont(df), calculate_depth_avg_cont(df), calculate_depth_const_cont(df), calculate_left_right_avg_cont(df), calculate_left_right_const_cont(df)#, player"
   ]
  },
  {
   "cell_type": "code",
   "execution_count": 29,
   "metadata": {
    "collapsed": true
   },
   "outputs": [],
   "source": [
    "def scores_by_session_cont(df, session):\n",
    "    df = df[df.session_id == session]\n",
    "    return df.mm_int.mean(), calculate_arc_avg_cont(df), calculate_arc_const_cont(df), calculate_depth_avg_cont(df), calculate_depth_const_cont(df), calculate_left_right_avg_cont(df), calculate_left_right_const_cont(df), list(df.player_id)[0], calculate_velocity_avg_cont(df), calculate_velocity_const_cont(df)"
   ]
  },
  {
   "cell_type": "code",
   "execution_count": 85,
   "metadata": {
    "collapsed": true
   },
   "outputs": [],
   "source": [
    "def calculate_arc_avg(df):\n",
    "    mean = round(df.angle.mean())\n",
    "    if mean == 45:\n",
    "        return 0\n",
    "    elif mean == 44 or mean == 46:\n",
    "        return 1\n",
    "    elif mean == 43 or mean == 47:\n",
    "        return 2\n",
    "    elif mean == 42 or mean == 48:\n",
    "        return 3\n",
    "    elif mean == 41 or mean == 49:\n",
    "        return 4\n",
    "    elif mean == 40 or mean == 50:\n",
    "        return 5\n",
    "    elif mean == 39 or mean == 51:\n",
    "         return 6\n",
    "    elif mean == 38 or mean == 52:\n",
    "        return 7\n",
    "    elif mean == 37 or mean == 53:\n",
    "        return 8\n",
    "    elif mean == 36 or mean == 54:\n",
    "        return 9\n",
    "    elif mean == 35 or mean == 55:\n",
    "        return 10\n",
    "    else: \n",
    "        return 11"
   ]
  },
  {
   "cell_type": "code",
   "execution_count": 86,
   "metadata": {
    "collapsed": false
   },
   "outputs": [
    {
     "data": {
      "text/plain": [
       "6.6899999999999995"
      ]
     },
     "execution_count": 86,
     "metadata": {},
     "output_type": "execute_result"
    }
   ],
   "source": [
    "10-3.31"
   ]
  },
  {
   "cell_type": "code",
   "execution_count": 87,
   "metadata": {
    "collapsed": true
   },
   "outputs": [],
   "source": [
    "def calculate_arc_const(df):\n",
    "    std = 10 - df.angle.std()\n",
    "    if std >= 9.0:\n",
    "        return 0\n",
    "    elif std >= 8.75 and std < 9.0:\n",
    "        return 1\n",
    "    elif std >= 8.5 and std < 8.75:\n",
    "        return 2\n",
    "    elif std >= 8.25 and std < 8.50:\n",
    "        return 3\n",
    "    elif std >= 8.0 and std < 8.25:\n",
    "        return 4\n",
    "    elif std >= 7.75 and std < 8.0:\n",
    "        return 5\n",
    "    elif std >= 7.5 and std < 7.75:\n",
    "         return 6\n",
    "    elif std >= 7.0 and std < 7.5:\n",
    "        return 7\n",
    "    elif std >= 6.0 and std < 7.0:\n",
    "        return 8\n",
    "    elif std >= 5.0 and std < 6.0:\n",
    "        return 9\n",
    "    elif std >= 4.0 and std < 5.0:\n",
    "        return 10\n",
    "    else: #< 4.0\n",
    "        return 11"
   ]
  },
  {
   "cell_type": "code",
   "execution_count": 88,
   "metadata": {
    "collapsed": true
   },
   "outputs": [],
   "source": [
    "def calculate_depth_avg(df):\n",
    "    mean = df.depth.mean()\n",
    "    if mean >= 10.5 and mean < 11.5:\n",
    "        return 0\n",
    "    elif (mean >= 10.0 and mean < 10.5) or (mean >= 11.5 and mean < 12.0):\n",
    "        return 1\n",
    "    elif (mean >= 9.5 and mean < 10.0) or (mean >= 12.0 and mean < 12.5):\n",
    "        return 2\n",
    "    elif (mean >= 9.0 and mean < 9.5) or (mean >= 12.5 and mean < 13.0):\n",
    "        return 3\n",
    "    elif (mean >= 8.5 and mean < 9.0) or (mean >= 13.0 and mean < 13.5):\n",
    "        return 4\n",
    "    elif (mean >= 8.0 and mean < 8.5) or (mean >= 13.5 and mean < 14.0):\n",
    "        return 5\n",
    "    elif (mean >= 7.5 and mean < 8.0) or (mean >= 14.0 and mean < 14.5):\n",
    "         return 6\n",
    "    elif (mean >= 7.0 and mean < 7.5) or (mean >= 14.5 and mean < 15.0):\n",
    "        return 7\n",
    "    elif (mean >= 6.5 and mean < 7.0) or (mean >= 15.0 and mean < 15.5):\n",
    "        return 8\n",
    "    elif (mean >= 6.0 and mean < 6.5) or (mean >= 15.5 and mean < 16.0):\n",
    "        return 9\n",
    "    elif (mean >= 5.5 and mean < 6.0) or (mean >= 16.0 and mean < 16.5):\n",
    "        return 10\n",
    "    else: \n",
    "        return 11"
   ]
  },
  {
   "cell_type": "code",
   "execution_count": 89,
   "metadata": {
    "collapsed": true
   },
   "outputs": [],
   "source": [
    "def calculate_depth_const(df):\n",
    "    std = 10 - (df.depth.std() * 0.45)\n",
    "    if std >= 9.0:\n",
    "        return 0\n",
    "    elif std >= 8.75 and std < 9.0:\n",
    "        return 1\n",
    "    elif std >= 8.5 and std < 8.75:\n",
    "        return 2\n",
    "    elif std >= 8.25 and std < 8.50:\n",
    "        return 3\n",
    "    elif std >= 8.0 and std < 8.25:\n",
    "        return 4\n",
    "    elif std >= 7.75 and std < 8.0:\n",
    "        return 5\n",
    "    elif std >= 7.5 and std < 7.75:\n",
    "         return 6\n",
    "    elif std >= 7.0 and std < 7.5:\n",
    "        return 7\n",
    "    elif std >= 6.0 and std < 7.0:\n",
    "        return 8\n",
    "    elif std >= 5.0 and std < 6.0:\n",
    "        return 9\n",
    "    elif std >= 4.0 and std < 5.0:\n",
    "        return 10\n",
    "    else: #< 4.0\n",
    "        return 11"
   ]
  },
  {
   "cell_type": "code",
   "execution_count": 92,
   "metadata": {
    "collapsed": true
   },
   "outputs": [],
   "source": [
    "def calculate_left_right_avg(df):\n",
    "    mean = df.left_right.mean()\n",
    "    if mean >= -.25 and mean < .25:\n",
    "        return 0\n",
    "    elif (mean <= -.25 and mean > -.5) or (mean >= .25 and mean < .5):\n",
    "        return 1\n",
    "    elif (mean <= -.5 and mean > -.75) or (mean >= .5 and mean < .75):\n",
    "        return 2\n",
    "    elif (mean <= -.75 and mean > -1) or (mean >= .75 and mean < 1):\n",
    "        return 3\n",
    "    elif (mean <= -1 and mean > -1.5) or (mean >= 1 and mean < 1.5):\n",
    "        return 4\n",
    "    elif (mean <= -1.5 and mean > -2) or (mean >= 1.5 and mean < 2):\n",
    "        return 5\n",
    "    elif (mean <= -2 and mean > -2.5) or (mean >= 2 and mean < 2.5):\n",
    "         return 6\n",
    "    elif (mean <= -2.5 and mean > -3) or (mean >= 2.5 and mean < 3):\n",
    "        return 7\n",
    "    elif (mean <= -3 and mean > -3.5) or (mean >= 3 and mean < 3.5):\n",
    "        return 8\n",
    "    elif (mean <= -3.5 and mean > -4) or (mean >= 3.5 and mean < 4):\n",
    "        return 9\n",
    "    elif (mean <= -4 and mean > -4.5) or (mean >= 4 and mean < 4.5):\n",
    "        return 10\n",
    "    else: \n",
    "        return 11"
   ]
  },
  {
   "cell_type": "code",
   "execution_count": 91,
   "metadata": {
    "collapsed": true
   },
   "outputs": [],
   "source": [
    "def calculate_left_right_const(df):\n",
    "    std = 10 - (df.left_right.std() * 0.45)\n",
    "    if std >= 9.0:\n",
    "        return 0\n",
    "    elif std >= 8.75 and std < 9.0:\n",
    "        return 1\n",
    "    elif std >= 8.5 and std < 8.75:\n",
    "        return 2\n",
    "    elif std >= 8.25 and std < 8.50:\n",
    "        return 3\n",
    "    elif std >= 8.0 and std < 8.25:\n",
    "        return 4\n",
    "    elif std >= 7.75 and std < 8.0:\n",
    "        return 5\n",
    "    elif std >= 7.5 and std < 7.75:\n",
    "         return 6\n",
    "    elif std >= 7.0 and std < 7.5:\n",
    "        return 7\n",
    "    elif std >= 6.0 and std < 7.0:\n",
    "        return 8\n",
    "    elif std >= 5.0 and std < 6.0:\n",
    "        return 9\n",
    "    elif std >= 4.0 and std < 5.0:\n",
    "        return 10\n",
    "    else: #< 4.0\n",
    "        return 11"
   ]
  },
  {
   "cell_type": "markdown",
   "metadata": {},
   "source": [
    "Calculated from a dataframe with the correct things already calculated"
   ]
  },
  {
   "cell_type": "code",
   "execution_count": 3,
   "metadata": {
    "collapsed": true
   },
   "outputs": [],
   "source": [
    "def better_scores_by_player(df, player):\n",
    "    df = df[df.player_id == player]\n",
    "    print df.make_miss_int.mean()\n",
    "    return df.make_miss_int.mean(), angle_median(df), angle_cons(df), depth_median(df), depth_cons(df), left_right_median(df), left_right_cons(df), player"
   ]
  },
  {
   "cell_type": "code",
   "execution_count": 4,
   "metadata": {
    "collapsed": true
   },
   "outputs": [],
   "source": [
    "def angle_median(df):\n",
    "    x = df.angle.median()\n",
    "    if x < 48 and x > 42:\n",
    "        return 1\n",
    "    else:\n",
    "        return 0"
   ]
  },
  {
   "cell_type": "code",
   "execution_count": 5,
   "metadata": {
    "collapsed": true
   },
   "outputs": [],
   "source": [
    "def angle_cons(df):\n",
    "    df['angle_abs_distance_median'] = abs(df.angle.median() - df.angle)\n",
    "    x = df.angle_abs_distance_median.median()\n",
    "    if x < 1.5:\n",
    "        return 1\n",
    "    else:\n",
    "        return 0\n",
    "    '''\n",
    "    if x < 1.5:\n",
    "        return 1\n",
    "    elif x < 2:\n",
    "        return 0.75\n",
    "    elif x < 2.5:\n",
    "        return 0.5\n",
    "    elif x < 3.0:\n",
    "        return 0.25\n",
    "    else:\n",
    "        return 0\n",
    "    '''"
   ]
  },
  {
   "cell_type": "code",
   "execution_count": 6,
   "metadata": {
    "collapsed": true
   },
   "outputs": [],
   "source": [
    "def depth_cons(df):\n",
    "    df['depth_abs_distance_median'] = abs(df.depth.median() - df.depth)\n",
    "    x = df.depth_abs_distance_median.median()\n",
    "    if x < 3:\n",
    "        return 1\n",
    "    elif x < 4:\n",
    "        return 0.75\n",
    "    elif x < 5:\n",
    "        return 0.5\n",
    "    elif x < 6:\n",
    "        return 0.25\n",
    "    else:\n",
    "        return 0"
   ]
  },
  {
   "cell_type": "code",
   "execution_count": 7,
   "metadata": {
    "collapsed": true
   },
   "outputs": [],
   "source": [
    "def left_right_cons(df):\n",
    "    df['left_right_abs_distance_median'] = abs(df.left_right.median() - df.left_right)\n",
    "    x = df.left_right_abs_distance_median.median()\n",
    "    if x < 3:\n",
    "        return 1\n",
    "    else:\n",
    "        return 0\n",
    "    '''\n",
    "    if x < 2.5:\n",
    "        return 1\n",
    "    elif x < 3:\n",
    "        return 0.75\n",
    "    elif x < 3.5:\n",
    "        return 0.5\n",
    "    elif x < 4:\n",
    "        return 0.25\n",
    "    else:\n",
    "        return 0\n",
    "    '''"
   ]
  },
  {
   "cell_type": "code",
   "execution_count": 8,
   "metadata": {
    "collapsed": true
   },
   "outputs": [],
   "source": [
    "def depth_median(df):\n",
    "    x = df.depth.median()\n",
    "    if x <= 11.5 and x >= 9.5:\n",
    "        return 1\n",
    "    else:\n",
    "        return 0\n",
    "    '''\n",
    "    if x <= 11.5 and x >= 10:\n",
    "        return 1\n",
    "    elif (x < 10 and x >= 9.5) or (x > 11.5 and x <= 12):\n",
    "        return 0.75\n",
    "    elif (x < 9.5 and x >= 8.5) or (x > 12 and x <= 13):\n",
    "        return 0.5\n",
    "    elif (x < 8.5 and x >= 7.5) or (x > 13 and x <= 14):\n",
    "        return 0.25\n",
    "    else:\n",
    "        return 0\n",
    "    '''"
   ]
  },
  {
   "cell_type": "code",
   "execution_count": 9,
   "metadata": {
    "collapsed": true
   },
   "outputs": [],
   "source": [
    "def left_right_median(df):\n",
    "    x = df.left_right.median()\n",
    "    if x <= 1 and x >= -1:\n",
    "        return 1\n",
    "    else:\n",
    "        return 0"
   ]
  },
  {
   "cell_type": "code",
   "execution_count": null,
   "metadata": {
    "collapsed": true
   },
   "outputs": [],
   "source": []
  },
  {
   "cell_type": "code",
   "execution_count": null,
   "metadata": {
    "collapsed": true
   },
   "outputs": [],
   "source": []
  }
 ],
 "metadata": {
  "anaconda-cloud": {},
  "kernelspec": {
   "display_name": "Python [default]",
   "language": "python",
   "name": "python2"
  },
  "language_info": {
   "codemirror_mode": {
    "name": "ipython",
    "version": 2
   },
   "file_extension": ".py",
   "mimetype": "text/x-python",
   "name": "python",
   "nbconvert_exporter": "python",
   "pygments_lexer": "ipython2",
   "version": "2.7.12"
  }
 },
 "nbformat": 4,
 "nbformat_minor": 0
}
