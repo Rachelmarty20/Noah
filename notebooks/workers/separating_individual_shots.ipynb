{
 "cells": [
  {
   "cell_type": "code",
   "execution_count": 2,
   "metadata": {
    "collapsed": false
   },
   "outputs": [
    {
     "name": "stdout",
     "output_type": "stream",
     "text": [
      "Populating the interactive namespace from numpy and matplotlib\n"
     ]
    },
    {
     "name": "stderr",
     "output_type": "stream",
     "text": [
      "//anaconda/lib/python2.7/site-packages/IPython/core/magics/pylab.py:161: UserWarning: pylab import has clobbered these variables: ['angle', 'datetime', 'absolute']\n",
      "`%matplotlib` prevents importing * from pylab and numpy\n",
      "  \"\\n`%matplotlib` prevents importing * from pylab and numpy\"\n"
     ]
    }
   ],
   "source": [
    "import io\n",
    "from IPython.nbformat import current\n",
    "\n",
    "def execute_notebook(nbfile):\n",
    "    \n",
    "    with io.open(nbfile) as f:\n",
    "        nb = current.read(f, 'json')\n",
    "    \n",
    "    ip = get_ipython()\n",
    "    \n",
    "    for cell in nb.worksheets[0].cells:\n",
    "        if cell.cell_type != 'code':\n",
    "            continue\n",
    "        ip.run_cell(cell.input)\n",
    "execute_notebook(\"../workers/Imports.ipynb\")"
   ]
  },
  {
   "cell_type": "code",
   "execution_count": 3,
   "metadata": {
    "collapsed": false
   },
   "outputs": [
    {
     "name": "stdout",
     "output_type": "stream",
     "text": [
      "Apr2017Shots.csv\n",
      "Aug2017Shots.csv\n"
     ]
    },
    {
     "name": "stderr",
     "output_type": "stream",
     "text": [
      "//anaconda/lib/python2.7/site-packages/IPython/core/interactiveshell.py:2717: DtypeWarning: Columns (7,26) have mixed types. Specify dtype option on import or set low_memory=False.\n",
      "  interactivity=interactivity, compiler=compiler, result=result)\n"
     ]
    },
    {
     "name": "stdout",
     "output_type": "stream",
     "text": [
      "Dec2016Shots.csv\n"
     ]
    },
    {
     "name": "stderr",
     "output_type": "stream",
     "text": [
      "//anaconda/lib/python2.7/site-packages/IPython/core/interactiveshell.py:2717: DtypeWarning: Columns (7,14,22) have mixed types. Specify dtype option on import or set low_memory=False.\n",
      "  interactivity=interactivity, compiler=compiler, result=result)\n"
     ]
    },
    {
     "name": "stdout",
     "output_type": "stream",
     "text": [
      "Feb2017Shots.csv\n",
      "Jan2017Shots.csv\n"
     ]
    },
    {
     "name": "stderr",
     "output_type": "stream",
     "text": [
      "//anaconda/lib/python2.7/site-packages/IPython/core/interactiveshell.py:2717: DtypeWarning: Columns (7,22) have mixed types. Specify dtype option on import or set low_memory=False.\n",
      "  interactivity=interactivity, compiler=compiler, result=result)\n"
     ]
    },
    {
     "name": "stdout",
     "output_type": "stream",
     "text": [
      "Jul2017Shots.csv\n",
      "Jun2017Shots.csv\n",
      "Mar2017Shots.csv\n",
      "May2017Shots.csv\n"
     ]
    },
    {
     "name": "stderr",
     "output_type": "stream",
     "text": [
      "//anaconda/lib/python2.7/site-packages/IPython/core/interactiveshell.py:2717: DtypeWarning: Columns (7,14,22,26) have mixed types. Specify dtype option on import or set low_memory=False.\n",
      "  interactivity=interactivity, compiler=compiler, result=result)\n"
     ]
    },
    {
     "name": "stdout",
     "output_type": "stream",
     "text": [
      "Nov2016Shots.csv\n",
      "Oct2017Shots.csv\n"
     ]
    },
    {
     "name": "stderr",
     "output_type": "stream",
     "text": [
      "//anaconda/lib/python2.7/site-packages/IPython/core/interactiveshell.py:2717: DtypeWarning: Columns (7) have mixed types. Specify dtype option on import or set low_memory=False.\n",
      "  interactivity=interactivity, compiler=compiler, result=result)\n"
     ]
    },
    {
     "name": "stdout",
     "output_type": "stream",
     "text": [
      "Sept2017Shots.csv\n"
     ]
    }
   ],
   "source": [
    "practice_files = [x for x in os.listdir('../../raw_data/by_month/')]\n",
    "dfs = []\n",
    "for practice_file in practice_files:\n",
    "    print practice_file\n",
    "    if practice_file in ['Aug2017Shots.csv', 'Oct2017Shots.csv', 'Sept2017Shots.csv']:\n",
    "         tmp = pd.read_csv('../../raw_data/by_month/{0}'.format(practice_file))\n",
    "    else:\n",
    "        tmp = pd.read_csv('../../raw_data/by_month/{0}'.format(practice_file), sep='\\t')\n",
    "    dfs.append(tmp)\n",
    "df = pd.concat(dfs)\n",
    "df = add_columns(df)"
   ]
  },
  {
   "cell_type": "code",
   "execution_count": 4,
   "metadata": {
    "collapsed": false
   },
   "outputs": [
    {
     "data": {
      "text/html": [
       "<div>\n",
       "<style>\n",
       "    .dataframe thead tr:only-child th {\n",
       "        text-align: right;\n",
       "    }\n",
       "\n",
       "    .dataframe thead th {\n",
       "        text-align: left;\n",
       "    }\n",
       "\n",
       "    .dataframe tbody tr th {\n",
       "        vertical-align: top;\n",
       "    }\n",
       "</style>\n",
       "<table border=\"1\" class=\"dataframe\">\n",
       "  <thead>\n",
       "    <tr style=\"text-align: right;\">\n",
       "      <th></th>\n",
       "      <th>id</th>\n",
       "      <th>angle</th>\n",
       "      <th>shot_distance</th>\n",
       "      <th>trajectory</th>\n",
       "      <th>velocity</th>\n",
       "      <th>ball_height</th>\n",
       "      <th>shot_date</th>\n",
       "      <th>classified</th>\n",
       "      <th>left_right</th>\n",
       "      <th>depth</th>\n",
       "      <th>...</th>\n",
       "      <th>is_layup</th>\n",
       "      <th>floor_position_x_inch</th>\n",
       "      <th>floor_position_y_inch</th>\n",
       "      <th>floor_position_x_feet</th>\n",
       "      <th>floor_position_y_feet</th>\n",
       "      <th>shot_distance_squared</th>\n",
       "      <th>angle_rounded</th>\n",
       "      <th>depth_rounded</th>\n",
       "      <th>left_right_rounded</th>\n",
       "      <th>numeric_make_miss</th>\n",
       "    </tr>\n",
       "  </thead>\n",
       "  <tbody>\n",
       "    <tr>\n",
       "      <th>0</th>\n",
       "      <td>10210360</td>\n",
       "      <td>70.130905</td>\n",
       "      <td>3.490186</td>\n",
       "      <td>0.0</td>\n",
       "      <td>3.462931</td>\n",
       "      <td>3445.057908</td>\n",
       "      <td>2017-04-01 00:00:38</td>\n",
       "      <td>True</td>\n",
       "      <td>15.198205</td>\n",
       "      <td>3.037244</td>\n",
       "      <td>...</td>\n",
       "      <td>False</td>\n",
       "      <td>41.881158</td>\n",
       "      <td>0.300116</td>\n",
       "      <td>3.490096</td>\n",
       "      <td>0.025010</td>\n",
       "      <td>12.181399</td>\n",
       "      <td>70</td>\n",
       "      <td>3</td>\n",
       "      <td>15</td>\n",
       "      <td>0</td>\n",
       "    </tr>\n",
       "    <tr>\n",
       "      <th>1</th>\n",
       "      <td>10210371</td>\n",
       "      <td>46.321323</td>\n",
       "      <td>23.039095</td>\n",
       "      <td>0.0</td>\n",
       "      <td>7.884435</td>\n",
       "      <td>4649.984380</td>\n",
       "      <td>2017-04-01 00:00:19</td>\n",
       "      <td>True</td>\n",
       "      <td>6.186162</td>\n",
       "      <td>6.293659</td>\n",
       "      <td>...</td>\n",
       "      <td>False</td>\n",
       "      <td>271.329383</td>\n",
       "      <td>53.061776</td>\n",
       "      <td>22.610782</td>\n",
       "      <td>4.421815</td>\n",
       "      <td>530.799904</td>\n",
       "      <td>46</td>\n",
       "      <td>6</td>\n",
       "      <td>6</td>\n",
       "      <td>0</td>\n",
       "    </tr>\n",
       "    <tr>\n",
       "      <th>2</th>\n",
       "      <td>10210380</td>\n",
       "      <td>44.155507</td>\n",
       "      <td>23.347676</td>\n",
       "      <td>0.0</td>\n",
       "      <td>7.817043</td>\n",
       "      <td>4577.827853</td>\n",
       "      <td>2017-04-01 00:00:38</td>\n",
       "      <td>True</td>\n",
       "      <td>9.341701</td>\n",
       "      <td>12.128387</td>\n",
       "      <td>...</td>\n",
       "      <td>False</td>\n",
       "      <td>230.708247</td>\n",
       "      <td>158.965784</td>\n",
       "      <td>19.225687</td>\n",
       "      <td>13.247149</td>\n",
       "      <td>545.113997</td>\n",
       "      <td>44</td>\n",
       "      <td>12</td>\n",
       "      <td>9</td>\n",
       "      <td>0</td>\n",
       "    </tr>\n",
       "    <tr>\n",
       "      <th>3</th>\n",
       "      <td>10210396</td>\n",
       "      <td>46.703295</td>\n",
       "      <td>16.593315</td>\n",
       "      <td>0.0</td>\n",
       "      <td>6.181659</td>\n",
       "      <td>4158.558743</td>\n",
       "      <td>2017-04-01 00:01:45</td>\n",
       "      <td>True</td>\n",
       "      <td>-3.986411</td>\n",
       "      <td>15.887308</td>\n",
       "      <td>...</td>\n",
       "      <td>False</td>\n",
       "      <td>121.178625</td>\n",
       "      <td>158.001358</td>\n",
       "      <td>10.098219</td>\n",
       "      <td>13.166780</td>\n",
       "      <td>275.338113</td>\n",
       "      <td>47</td>\n",
       "      <td>16</td>\n",
       "      <td>-4</td>\n",
       "      <td>1</td>\n",
       "    </tr>\n",
       "    <tr>\n",
       "      <th>4</th>\n",
       "      <td>10210405</td>\n",
       "      <td>44.245909</td>\n",
       "      <td>22.665779</td>\n",
       "      <td>0.0</td>\n",
       "      <td>7.673989</td>\n",
       "      <td>4536.536900</td>\n",
       "      <td>2017-04-01 00:02:11</td>\n",
       "      <td>True</td>\n",
       "      <td>-1.750643</td>\n",
       "      <td>12.801992</td>\n",
       "      <td>...</td>\n",
       "      <td>False</td>\n",
       "      <td>145.322148</td>\n",
       "      <td>229.912333</td>\n",
       "      <td>12.110179</td>\n",
       "      <td>19.159361</td>\n",
       "      <td>513.737552</td>\n",
       "      <td>44</td>\n",
       "      <td>13</td>\n",
       "      <td>-2</td>\n",
       "      <td>1</td>\n",
       "    </tr>\n",
       "  </tbody>\n",
       "</table>\n",
       "<p>5 rows × 41 columns</p>\n",
       "</div>"
      ],
      "text/plain": [
       "         id      angle  shot_distance  trajectory  velocity  ball_height  \\\n",
       "0  10210360  70.130905       3.490186         0.0  3.462931  3445.057908   \n",
       "1  10210371  46.321323      23.039095         0.0  7.884435  4649.984380   \n",
       "2  10210380  44.155507      23.347676         0.0  7.817043  4577.827853   \n",
       "3  10210396  46.703295      16.593315         0.0  6.181659  4158.558743   \n",
       "4  10210405  44.245909      22.665779         0.0  7.673989  4536.536900   \n",
       "\n",
       "             shot_date classified  left_right      depth        ...          \\\n",
       "0  2017-04-01 00:00:38       True   15.198205   3.037244        ...           \n",
       "1  2017-04-01 00:00:19       True    6.186162   6.293659        ...           \n",
       "2  2017-04-01 00:00:38       True    9.341701  12.128387        ...           \n",
       "3  2017-04-01 00:01:45       True   -3.986411  15.887308        ...           \n",
       "4  2017-04-01 00:02:11       True   -1.750643  12.801992        ...           \n",
       "\n",
       "   is_layup  floor_position_x_inch  floor_position_y_inch  \\\n",
       "0     False              41.881158               0.300116   \n",
       "1     False             271.329383              53.061776   \n",
       "2     False             230.708247             158.965784   \n",
       "3     False             121.178625             158.001358   \n",
       "4     False             145.322148             229.912333   \n",
       "\n",
       "   floor_position_x_feet floor_position_y_feet shot_distance_squared  \\\n",
       "0               3.490096              0.025010             12.181399   \n",
       "1              22.610782              4.421815            530.799904   \n",
       "2              19.225687             13.247149            545.113997   \n",
       "3              10.098219             13.166780            275.338113   \n",
       "4              12.110179             19.159361            513.737552   \n",
       "\n",
       "   angle_rounded  depth_rounded  left_right_rounded  numeric_make_miss  \n",
       "0             70              3                  15                  0  \n",
       "1             46              6                   6                  0  \n",
       "2             44             12                   9                  0  \n",
       "3             47             16                  -4                  1  \n",
       "4             44             13                  -2                  1  \n",
       "\n",
       "[5 rows x 41 columns]"
      ]
     },
     "execution_count": 4,
     "metadata": {},
     "output_type": "execute_result"
    }
   ],
   "source": [
    "df.head()"
   ]
  },
  {
   "cell_type": "code",
   "execution_count": 5,
   "metadata": {
    "collapsed": false
   },
   "outputs": [
    {
     "data": {
      "text/plain": [
       "Index([u'id', u'angle', u'shot_distance', u'trajectory', u'velocity',\n",
       "       u'ball_height', u'shot_date', u'classified', u'left_right', u'depth',\n",
       "       u'floor_position_x', u'floor_position_y', u'ball_position_x',\n",
       "       u'ball_position_y', u'make_miss', u'excluded', u'ball_points',\n",
       "       u'constant_a', u'constant_b', u'constant_c', u'volume_level',\n",
       "       u'feedback_type', u'clean_make', u'hoop_id', u'inserted_at',\n",
       "       u'updated_at', u'player_id', u'location_id', u'session_id',\n",
       "       u'is_free_throw', u'is_bank_shot', u'is_layup',\n",
       "       u'floor_position_x_inch', u'floor_position_y_inch',\n",
       "       u'floor_position_x_feet', u'floor_position_y_feet',\n",
       "       u'shot_distance_squared', u'angle_rounded', u'depth_rounded',\n",
       "       u'left_right_rounded', u'numeric_make_miss'],\n",
       "      dtype='object')"
      ]
     },
     "execution_count": 5,
     "metadata": {},
     "output_type": "execute_result"
    }
   ],
   "source": [
    "df.columns"
   ]
  },
  {
   "cell_type": "code",
   "execution_count": 6,
   "metadata": {
    "collapsed": false
   },
   "outputs": [
    {
     "data": {
      "text/plain": [
       "(24379710, 7835243)"
      ]
     },
     "execution_count": 6,
     "metadata": {},
     "output_type": "execute_result"
    }
   ],
   "source": [
    "len(df), len(df[(df.player_id != '0')&(df.player_id != 0)])"
   ]
  },
  {
   "cell_type": "code",
   "execution_count": 7,
   "metadata": {
    "collapsed": true
   },
   "outputs": [],
   "source": [
    "new_identified = df[(df.player_id != '0')&(df.player_id != 0)]"
   ]
  },
  {
   "cell_type": "code",
   "execution_count": 8,
   "metadata": {
    "collapsed": false
   },
   "outputs": [
    {
     "name": "stderr",
     "output_type": "stream",
     "text": [
      "//anaconda/lib/python2.7/site-packages/IPython/core/interactiveshell.py:2717: DtypeWarning: Columns (4,22,23,27) have mixed types. Specify dtype option on import or set low_memory=False.\n",
      "  interactivity=interactivity, compiler=compiler, result=result)\n"
     ]
    }
   ],
   "source": [
    "df_old = pd.read_csv('../../raw_data/old.individually_labelled.csv', index_col=0)\n",
    "df_old = add_columns(df_old)"
   ]
  },
  {
   "cell_type": "code",
   "execution_count": 9,
   "metadata": {
    "collapsed": false
   },
   "outputs": [],
   "source": [
    "combined = pd.concat([new_identified, df_old], join='inner')"
   ]
  },
  {
   "cell_type": "code",
   "execution_count": 10,
   "metadata": {
    "collapsed": true
   },
   "outputs": [],
   "source": [
    "combined.to_csv('../../processed_data/identified_shots.csv')"
   ]
  },
  {
   "cell_type": "code",
   "execution_count": 11,
   "metadata": {
    "collapsed": false
   },
   "outputs": [
    {
     "data": {
      "text/plain": [
       "8145263"
      ]
     },
     "execution_count": 11,
     "metadata": {},
     "output_type": "execute_result"
    }
   ],
   "source": [
    "len(combined)"
   ]
  },
  {
   "cell_type": "code",
   "execution_count": null,
   "metadata": {
    "collapsed": true
   },
   "outputs": [],
   "source": []
  }
 ],
 "metadata": {
  "anaconda-cloud": {},
  "kernelspec": {
   "display_name": "Python [conda root]",
   "language": "python",
   "name": "conda-root-py"
  },
  "language_info": {
   "codemirror_mode": {
    "name": "ipython",
    "version": 2
   },
   "file_extension": ".py",
   "mimetype": "text/x-python",
   "name": "python",
   "nbconvert_exporter": "python",
   "pygments_lexer": "ipython2",
   "version": "2.7.12"
  }
 },
 "nbformat": 4,
 "nbformat_minor": 1
}
