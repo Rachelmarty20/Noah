{
 "cells": [
  {
   "cell_type": "code",
   "execution_count": null,
   "metadata": {
    "collapsed": true
   },
   "outputs": [],
   "source": [
    "import io\n",
    "from IPython.nbformat import current\n",
    "\n",
    "def execute_notebook(nbfile):\n",
    "    \n",
    "    with io.open(nbfile) as f:\n",
    "        nb = current.read(f, 'json')\n",
    "    \n",
    "    ip = get_ipython()\n",
    "    \n",
    "    for cell in nb.worksheets[0].cells:\n",
    "        if cell.cell_type != 'code':\n",
    "            continue\n",
    "        ip.run_cell(cell.input)\n",
    "execute_notebook(\"../workers/Imports.ipynb\")"
   ]
  },
  {
   "cell_type": "markdown",
   "metadata": {},
   "source": [
    "### Get NBA shots only"
   ]
  },
  {
   "cell_type": "code",
   "execution_count": null,
   "metadata": {
    "collapsed": true
   },
   "outputs": [],
   "source": [
    "# extract from all files\n",
    "practice_files = [x for x in os.listdir('../../raw_data/by_month/')]\n",
    "dfs = []\n",
    "for practice_file in practice_files:\n",
    "    print practice_file\n",
    "    if practice_file in ['Aug2017Shots.csv', 'Oct2017Shots.csv', 'Sept2017Shots.csv']:\n",
    "         tmp = pd.read_csv('../../raw_data/by_month/{0}'.format(practice_file))\n",
    "    else:\n",
    "        tmp = pd.read_csv('../../raw_data/by_month/{0}'.format(practice_file), sep='\\t')\n",
    "    dfs.append(tmp)\n",
    "df = pd.concat(dfs)\n",
    "df = add_columns(df)"
   ]
  },
  {
   "cell_type": "code",
   "execution_count": null,
   "metadata": {
    "collapsed": true
   },
   "outputs": [],
   "source": [
    "locations = pd.read_csv('../../raw_data/locations.csv')\n",
    "df = pd.merge(df, locations, on='location_id')"
   ]
  },
  {
   "cell_type": "code",
   "execution_count": null,
   "metadata": {
    "collapsed": true
   },
   "outputs": [],
   "source": [
    "professional_df = df[df.level == 'professional']\n",
    "professional_df.to_csv('../../processed_data/professional.csv')"
   ]
  }
 ],
 "metadata": {
  "anaconda-cloud": {},
  "kernelspec": {
   "display_name": "Python [default]",
   "language": "python",
   "name": "python2"
  },
  "language_info": {
   "codemirror_mode": {
    "name": "ipython",
    "version": 2
   },
   "file_extension": ".py",
   "mimetype": "text/x-python",
   "name": "python",
   "nbconvert_exporter": "python",
   "pygments_lexer": "ipython2",
   "version": "2.7.12"
  }
 },
 "nbformat": 4,
 "nbformat_minor": 1
}
